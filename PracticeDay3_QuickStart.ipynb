{
  "nbformat": 4,
  "nbformat_minor": 0,
  "metadata": {
    "colab": {
      "provenance": [],
      "authorship_tag": "ABX9TyN47BEI/nTMAP5p3qG3qjjx",
      "include_colab_link": true
    },
    "kernelspec": {
      "name": "python3",
      "display_name": "Python 3"
    },
    "language_info": {
      "name": "python"
    }
  },
  "cells": [
    {
      "cell_type": "markdown",
      "metadata": {
        "id": "view-in-github",
        "colab_type": "text"
      },
      "source": [
        "<a href=\"https://colab.research.google.com/github/016HaiderAli/Python/blob/master/PracticeDay3_QuickStart.ipynb\" target=\"_parent\"><img src=\"https://colab.research.google.com/assets/colab-badge.svg\" alt=\"Open In Colab\"/></a>"
      ]
    },
    {
      "cell_type": "code",
      "execution_count": 5,
      "metadata": {
        "colab": {
          "base_uri": "https://localhost:8080/"
        },
        "id": "Klo25FeaW2YN",
        "outputId": "46b934b2-d9ea-4601-8340-a5a3b473d614"
      },
      "outputs": [
        {
          "output_type": "stream",
          "name": "stdout",
          "text": [
            "5\n"
          ]
        }
      ],
      "source": [
        "#Hangman Game\n",
        "word = 'Seven deadly Sins'\n",
        "vowels = ['a', 'e', 'i', 'o', 'u']\n",
        "vowelCount = 0\n",
        "\n",
        "for character in word:\n",
        "   if character in vowels:\n",
        "     vowelCount += 1\n",
        "\n",
        "print(vowelCount)     "
      ]
    },
    {
      "cell_type": "markdown",
      "source": [
        "**Iteration:**\n",
        "Iteration is a process of repeatedly performing a set of instructions.\n",
        "\n",
        "**For Loop:**\n",
        "A for loop is a structure that helps you achieve iteration. <br>\n",
        "There are different ways you can use a for loop. <br>\n",
        "One way is to use a for loop to iterate over a range of numbers. <br> \n",
        "You can specify a range of numbers by calling the range function. <br>\n",
        "\n",
        "**Range:**\n",
        "Range is a built-in function in Python that takes in the following inputs in the following order. range(start, stop, step) <br>\n",
        "An optional starting number, a required ending number, and an optional step size. <br>\n",
        "When a starting number is not provided, range defaults to starting with zero. <br> When a step size is not provided, range defaults to using a step size of one. <br>The ending number must be provided and range excludes this ending number. "
      ],
      "metadata": {
        "id": "PlJtxVM6ZPk1"
      }
    },
    {
      "cell_type": "code",
      "source": [
        "for i in range(4):\n",
        "  print(i) #i is the loop variable"
      ],
      "metadata": {
        "colab": {
          "base_uri": "https://localhost:8080/"
        },
        "id": "tqrP16X8Ychp",
        "outputId": "9460acaa-6bf2-4b93-ced9-10b10935a24e"
      },
      "execution_count": 9,
      "outputs": [
        {
          "output_type": "stream",
          "name": "stdout",
          "text": [
            "0\n",
            "1\n",
            "2\n",
            "3\n"
          ]
        }
      ]
    },
    {
      "cell_type": "code",
      "source": [
        "for i in range(1, 8, 2):\n",
        "  print(i)"
      ],
      "metadata": {
        "colab": {
          "base_uri": "https://localhost:8080/"
        },
        "id": "A2EflJ5la3l6",
        "outputId": "6e7d6c71-9460-48b3-c3ae-cfeabb2fd6e1"
      },
      "execution_count": 10,
      "outputs": [
        {
          "output_type": "stream",
          "name": "stdout",
          "text": [
            "1\n",
            "3\n",
            "5\n",
            "7\n"
          ]
        }
      ]
    },
    {
      "cell_type": "code",
      "source": [
        "vowels = ['a', 'e', 'i', 'o', 'u']\n",
        "for v in vowels:\n",
        "  print(v)"
      ],
      "metadata": {
        "colab": {
          "base_uri": "https://localhost:8080/"
        },
        "id": "NsZ-a4M7bX7H",
        "outputId": "2022cf2b-1552-43bd-86eb-416508e4e847"
      },
      "execution_count": 11,
      "outputs": [
        {
          "output_type": "stream",
          "name": "stdout",
          "text": [
            "a\n",
            "e\n",
            "i\n",
            "o\n",
            "u\n"
          ]
        }
      ]
    },
    {
      "cell_type": "code",
      "source": [
        "#While Loop\n",
        "i = 0 #loop Variable is initialised beforehand\n",
        "while i < len(vowels):\n",
        "  print(vowels[i])\n",
        "  i += 1"
      ],
      "metadata": {
        "colab": {
          "base_uri": "https://localhost:8080/"
        },
        "id": "9S8wx6v7cEyA",
        "outputId": "652cc6ba-06db-4241-e362-35b90a71d4d3"
      },
      "execution_count": 12,
      "outputs": [
        {
          "output_type": "stream",
          "name": "stdout",
          "text": [
            "a\n",
            "e\n",
            "i\n",
            "o\n",
            "u\n"
          ]
        }
      ]
    },
    {
      "cell_type": "code",
      "source": [],
      "metadata": {
        "id": "YTOq1U6Chnp7"
      },
      "execution_count": null,
      "outputs": []
    }
  ]
}