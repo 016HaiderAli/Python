{
  "nbformat": 4,
  "nbformat_minor": 0,
  "metadata": {
    "colab": {
      "provenance": [],
      "authorship_tag": "ABX9TyO8iVl+nFg65D9jUdMt33yj",
      "include_colab_link": true
    },
    "kernelspec": {
      "name": "python3",
      "display_name": "Python 3"
    },
    "language_info": {
      "name": "python"
    },
    "accelerator": "GPU",
    "gpuClass": "standard"
  },
  "cells": [
    {
      "cell_type": "markdown",
      "metadata": {
        "id": "view-in-github",
        "colab_type": "text"
      },
      "source": [
        "<a href=\"https://colab.research.google.com/github/016HaiderAli/Python/blob/main/FacialEmotionDetection.ipynb\" target=\"_parent\"><img src=\"https://colab.research.google.com/assets/colab-badge.svg\" alt=\"Open In Colab\"/></a>"
      ]
    },
    {
      "cell_type": "code",
      "execution_count": null,
      "metadata": {
        "colab": {
          "base_uri": "https://localhost:8080/"
        },
        "id": "DPZ2zkf-kYqo",
        "outputId": "bdb56a68-3666-42cb-e56d-7f84bb44c11c"
      },
      "outputs": [
        {
          "output_type": "stream",
          "name": "stdout",
          "text": [
            "Mounted at /content/drive\n"
          ]
        }
      ],
      "source": [
        "from google.colab import drive\n",
        "drive.mount('/content/drive')"
      ]
    },
    {
      "cell_type": "code",
      "source": [
        "!unzip '/content/drive/MyDrive/Facial_Emotion_Recognition/Dataset.zip' -d '/content/drive/MyDrive/Facial_Emotion_Recognition' "
      ],
      "metadata": {
        "id": "LTOnZpZwlfLV",
        "colab": {
          "base_uri": "https://localhost:8080/"
        },
        "outputId": "ee96a72c-0541-4a14-ab73-28f843dfdd74"
      },
      "execution_count": null,
      "outputs": [
        {
          "output_type": "stream",
          "name": "stdout",
          "text": [
            "Archive:  /content/drive/MyDrive/Facial_Emotion_Recognition/Dataset.zip\n",
            "replace /content/drive/MyDrive/Facial_Emotion_Recognition/Dataset/test/Angry/A5.jpg? [y]es, [n]o, [A]ll, [N]one, [r]ename: "
          ]
        }
      ]
    },
    {
      "cell_type": "code",
      "source": [
        "!nvidia-smi"
      ],
      "metadata": {
        "colab": {
          "base_uri": "https://localhost:8080/"
        },
        "id": "_uWTzSqrmZfj",
        "outputId": "9de4a163-1664-4e81-cd9d-072405f53a3a"
      },
      "execution_count": null,
      "outputs": [
        {
          "output_type": "stream",
          "name": "stdout",
          "text": [
            "Fri Nov 18 02:30:31 2022       \n",
            "+-----------------------------------------------------------------------------+\n",
            "| NVIDIA-SMI 460.32.03    Driver Version: 460.32.03    CUDA Version: 11.2     |\n",
            "|-------------------------------+----------------------+----------------------+\n",
            "| GPU  Name        Persistence-M| Bus-Id        Disp.A | Volatile Uncorr. ECC |\n",
            "| Fan  Temp  Perf  Pwr:Usage/Cap|         Memory-Usage | GPU-Util  Compute M. |\n",
            "|                               |                      |               MIG M. |\n",
            "|===============================+======================+======================|\n",
            "|   0  Tesla T4            Off  | 00000000:00:04.0 Off |                    0 |\n",
            "| N/A   42C    P8     9W /  70W |      0MiB / 15109MiB |      0%      Default |\n",
            "|                               |                      |                  N/A |\n",
            "+-------------------------------+----------------------+----------------------+\n",
            "                                                                               \n",
            "+-----------------------------------------------------------------------------+\n",
            "| Processes:                                                                  |\n",
            "|  GPU   GI   CI        PID   Type   Process name                  GPU Memory |\n",
            "|        ID   ID                                                   Usage      |\n",
            "|=============================================================================|\n",
            "|  No running processes found                                                 |\n",
            "+-----------------------------------------------------------------------------+\n"
          ]
        }
      ]
    },
    {
      "cell_type": "code",
      "source": [
        "import tensorflow as tf\n",
        "import keras\n",
        "from keras.preprocessing.image import ImageDataGenerator #To load images, do some preprocessing and augmentation\n",
        "from keras.models import Sequential #Because we are going to pass data from one layer to another\n",
        "from keras.layers import Dense,Dropout,Flatten #Dense for density of image, Dropout for overfitting and flatten because we need back chart to classify\n",
        "from keras.layers import Conv2D,MaxPooling2D,BatchNormalization #Conv2D For convolution fn\n",
        "import os #To load images from directory\n",
        "from matplotlib import pyplot as plt\n",
        "%matplotlib inline\n",
        "\n",
        "import numpy as np\n",
        "import pandas as pd"
      ],
      "metadata": {
        "id": "Oi9vPpq2oMo6"
      },
      "execution_count": null,
      "outputs": []
    },
    {
      "cell_type": "code",
      "source": [
        "IMG_HEIGHT = 48\n",
        "IMG_WIDTH = 48\n",
        "batch_size =32"
      ],
      "metadata": {
        "id": "RNJRjt6spDv0"
      },
      "execution_count": null,
      "outputs": []
    },
    {
      "cell_type": "markdown",
      "source": [
        "Data Augmentation"
      ],
      "metadata": {
        "id": "zBo5YOeGpbs6"
      }
    },
    {
      "cell_type": "code",
      "source": [
        "train_datagen = ImageDataGenerator(\n",
        "\t\t\t\t\trescale=1./255, #Image ranges from .5 to 255\n",
        "\t\t\t\t\trotation_range=30,\n",
        "\t\t\t\t\tshear_range=0.3,\n",
        "\t\t\t\t\tzoom_range=0.3,\n",
        "\t\t\t\t\thorizontal_flip=True, #inverting image\n",
        "\t\t\t\t\tfill_mode='nearest')\n",
        "\n",
        "validation_datagen = ImageDataGenerator(rescale=1./255)"
      ],
      "metadata": {
        "id": "23VGuXqnpYL-"
      },
      "execution_count": null,
      "outputs": []
    },
    {
      "cell_type": "markdown",
      "source": [
        "Flow data from our directory"
      ],
      "metadata": {
        "id": "_6B86sUbpmdR"
      }
    },
    {
      "cell_type": "code",
      "source": [
        "train_generator = train_datagen.flow_from_directory(\n",
        "\t\t\t\t\t'/content/drive/MyDrive/Facial_Emotion_Recognition/Dataset/train',\n",
        "\t\t\t\t\tcolor_mode='grayscale',\n",
        "\t\t\t\t\ttarget_size=(48, 48),\n",
        "\t\t\t\t\tbatch_size=32, \n",
        "\t\t\t\t\tclass_mode='categorical', #since we have seven classes so not going to use binary\n",
        "\t\t\t\t\tshuffle=True)\n",
        "\n",
        "validation_generator = validation_datagen.flow_from_directory(\n",
        "\t\t\t\t\t\t\t'/content/drive/MyDrive/Facial_Emotion_Recognition/Dataset/test',\n",
        "\t\t\t\t\t\t\tcolor_mode='grayscale',\n",
        "\t\t\t\t\t\t\ttarget_size=(48, 48),\n",
        "\t\t\t\t\t\t\tbatch_size=32,\n",
        "\t\t\t\t\t\t\tclass_mode='categorical',\n",
        "\t\t\t\t\t\t\tshuffle=True)"
      ],
      "metadata": {
        "colab": {
          "base_uri": "https://localhost:8080/"
        },
        "id": "UKKAyYrtpjhm",
        "outputId": "a0e33b49-de63-49bc-fb30-46009016f9c0"
      },
      "execution_count": null,
      "outputs": [
        {
          "output_type": "stream",
          "name": "stdout",
          "text": [
            "Found 55 images belonging to 7 classes.\n",
            "Found 48 images belonging to 7 classes.\n"
          ]
        }
      ]
    },
    {
      "cell_type": "markdown",
      "source": [
        "Creating list of labels"
      ],
      "metadata": {
        "id": "wOWR9OxNpxur"
      }
    },
    {
      "cell_type": "code",
      "source": [
        "class_labels=['Angry','Disgust', 'Fear', 'Happy','Neutral','Sad','Surprise']\n",
        "\n",
        "img, label = train_generator.__next__() #next gives us the two values i.e img and label"
      ],
      "metadata": {
        "id": "wreUZ4hyps-O"
      },
      "execution_count": null,
      "outputs": []
    },
    {
      "cell_type": "markdown",
      "source": [
        "Making the Model"
      ],
      "metadata": {
        "id": "vT751yEBp6bX"
      }
    },
    {
      "cell_type": "code",
      "source": [
        "model = Sequential()\n",
        "\n",
        "model.add(Conv2D(32, kernel_size=(3, 3), activation='relu', input_shape=(48,48,1)))\n",
        "#Relu prevent Vanishing of gradient problem\n",
        "\n",
        "#Adding layers and Removing overfit (Hidden Layer)\n",
        "model.add(Conv2D(64, kernel_size=(3, 3), activation='relu'))\n",
        "model.add(MaxPooling2D(pool_size=(2, 2)))\n",
        "model.add(Dropout(0.1))\n",
        "\n",
        "model.add(Conv2D(128, kernel_size=(3, 3), activation='relu'))\n",
        "model.add(MaxPooling2D(pool_size=(2, 2)))\n",
        "model.add(Dropout(0.1))\n",
        "\n",
        "model.add(Conv2D(256, kernel_size=(3, 3), activation='relu'))\n",
        "model.add(MaxPooling2D(pool_size=(2, 2)))\n",
        "model.add(Dropout(0.1))\n",
        "\n",
        "#need to make these layers flatten i.e make them linear when doing CNN Model \n",
        "model.add(Flatten())\n",
        "#Since Flatten contain single vector we used dense to tell how many feature i.e the matrix.\n",
        "model.add(Dense(512, activation='relu'))\n",
        "model.add(Dropout(0.2))\n",
        "\n",
        "#Output Layer - softmax because we have 7 classes. and not sigmoid that is used for binary\n",
        "model.add(Dense(7, activation='softmax'))\n",
        "\n",
        "#Compilation of our model\n",
        "model.compile(optimizer = 'adam', loss='categorical_crossentropy', metrics=['accuracy'])"
      ],
      "metadata": {
        "id": "m_2XvVAMp0YX"
      },
      "execution_count": null,
      "outputs": []
    },
    {
      "cell_type": "code",
      "source": [
        "model.fit(\n",
        "        train_generator,\n",
        "        epochs=75,\n",
        "        validation_data=validation_generator)"
      ],
      "metadata": {
        "colab": {
          "base_uri": "https://localhost:8080/"
        },
        "id": "n_oyYidEmwMG",
        "outputId": "9b7732d7-39c9-4a59-d8b1-5c1066ae96f3"
      },
      "execution_count": null,
      "outputs": [
        {
          "output_type": "stream",
          "name": "stdout",
          "text": [
            "Epoch 1/75\n",
            "2/2 [==============================] - 4s 3s/step - loss: 0.4323 - accuracy: 0.8182 - val_loss: 2.3497 - val_accuracy: 0.6458\n",
            "Epoch 2/75\n",
            "2/2 [==============================] - 3s 2s/step - loss: 0.3923 - accuracy: 0.8364 - val_loss: 2.2102 - val_accuracy: 0.6667\n",
            "Epoch 3/75\n",
            "2/2 [==============================] - 3s 2s/step - loss: 0.3871 - accuracy: 0.8545 - val_loss: 1.7704 - val_accuracy: 0.6875\n",
            "Epoch 4/75\n",
            "2/2 [==============================] - 3s 2s/step - loss: 0.2787 - accuracy: 0.9455 - val_loss: 1.8587 - val_accuracy: 0.7083\n",
            "Epoch 5/75\n",
            "2/2 [==============================] - 3s 2s/step - loss: 0.3235 - accuracy: 0.8545 - val_loss: 1.8901 - val_accuracy: 0.6875\n",
            "Epoch 6/75\n",
            "2/2 [==============================] - 3s 2s/step - loss: 0.4012 - accuracy: 0.8727 - val_loss: 1.9603 - val_accuracy: 0.6875\n",
            "Epoch 7/75\n",
            "2/2 [==============================] - 3s 2s/step - loss: 0.5054 - accuracy: 0.8545 - val_loss: 2.2944 - val_accuracy: 0.6667\n",
            "Epoch 8/75\n",
            "2/2 [==============================] - 3s 2s/step - loss: 0.4679 - accuracy: 0.7818 - val_loss: 2.4749 - val_accuracy: 0.6875\n",
            "Epoch 9/75\n",
            "2/2 [==============================] - 3s 2s/step - loss: 0.3195 - accuracy: 0.8727 - val_loss: 3.0589 - val_accuracy: 0.5625\n",
            "Epoch 10/75\n",
            "2/2 [==============================] - 3s 2s/step - loss: 0.4081 - accuracy: 0.8727 - val_loss: 2.6331 - val_accuracy: 0.6250\n",
            "Epoch 11/75\n",
            "2/2 [==============================] - 3s 2s/step - loss: 0.3309 - accuracy: 0.8545 - val_loss: 2.4867 - val_accuracy: 0.6250\n",
            "Epoch 12/75\n",
            "2/2 [==============================] - 4s 3s/step - loss: 0.2721 - accuracy: 0.9455 - val_loss: 2.5826 - val_accuracy: 0.6250\n",
            "Epoch 13/75\n",
            "2/2 [==============================] - 3s 2s/step - loss: 0.2041 - accuracy: 0.9455 - val_loss: 2.7111 - val_accuracy: 0.5833\n",
            "Epoch 14/75\n",
            "2/2 [==============================] - 3s 2s/step - loss: 0.2963 - accuracy: 0.8909 - val_loss: 2.3371 - val_accuracy: 0.7083\n",
            "Epoch 15/75\n",
            "2/2 [==============================] - 3s 2s/step - loss: 0.1564 - accuracy: 0.9636 - val_loss: 2.2245 - val_accuracy: 0.6875\n",
            "Epoch 16/75\n",
            "2/2 [==============================] - 3s 2s/step - loss: 0.3508 - accuracy: 0.9091 - val_loss: 2.2305 - val_accuracy: 0.6667\n",
            "Epoch 17/75\n",
            "2/2 [==============================] - 3s 2s/step - loss: 0.2987 - accuracy: 0.8909 - val_loss: 2.4235 - val_accuracy: 0.6458\n",
            "Epoch 18/75\n",
            "2/2 [==============================] - 3s 2s/step - loss: 0.1318 - accuracy: 0.9818 - val_loss: 2.6545 - val_accuracy: 0.5833\n",
            "Epoch 19/75\n",
            "2/2 [==============================] - 3s 2s/step - loss: 0.1403 - accuracy: 0.9636 - val_loss: 2.7621 - val_accuracy: 0.6250\n",
            "Epoch 20/75\n",
            "2/2 [==============================] - 3s 2s/step - loss: 0.2437 - accuracy: 0.9091 - val_loss: 2.3805 - val_accuracy: 0.6667\n",
            "Epoch 21/75\n",
            "2/2 [==============================] - 3s 2s/step - loss: 0.1984 - accuracy: 0.9273 - val_loss: 2.1920 - val_accuracy: 0.6250\n",
            "Epoch 22/75\n",
            "2/2 [==============================] - 3s 2s/step - loss: 0.1619 - accuracy: 0.9455 - val_loss: 2.2857 - val_accuracy: 0.6458\n",
            "Epoch 23/75\n",
            "2/2 [==============================] - 3s 2s/step - loss: 0.3110 - accuracy: 0.9273 - val_loss: 2.5684 - val_accuracy: 0.6667\n",
            "Epoch 24/75\n",
            "2/2 [==============================] - 3s 2s/step - loss: 0.4422 - accuracy: 0.9091 - val_loss: 2.5723 - val_accuracy: 0.6667\n",
            "Epoch 25/75\n",
            "2/2 [==============================] - 3s 2s/step - loss: 0.0997 - accuracy: 0.9636 - val_loss: 2.9256 - val_accuracy: 0.6250\n",
            "Epoch 26/75\n",
            "2/2 [==============================] - 4s 3s/step - loss: 0.3848 - accuracy: 0.8182 - val_loss: 2.9384 - val_accuracy: 0.6250\n",
            "Epoch 27/75\n",
            "2/2 [==============================] - 3s 2s/step - loss: 0.3014 - accuracy: 0.9091 - val_loss: 3.1375 - val_accuracy: 0.6458\n",
            "Epoch 28/75\n",
            "2/2 [==============================] - 3s 2s/step - loss: 0.2535 - accuracy: 0.8727 - val_loss: 2.7502 - val_accuracy: 0.6250\n",
            "Epoch 29/75\n",
            "2/2 [==============================] - 3s 2s/step - loss: 0.1319 - accuracy: 0.9273 - val_loss: 2.5095 - val_accuracy: 0.6667\n",
            "Epoch 30/75\n",
            "2/2 [==============================] - 3s 2s/step - loss: 0.1346 - accuracy: 0.9818 - val_loss: 2.3809 - val_accuracy: 0.7083\n",
            "Epoch 31/75\n",
            "2/2 [==============================] - 3s 2s/step - loss: 0.3599 - accuracy: 0.8909 - val_loss: 2.3759 - val_accuracy: 0.7083\n",
            "Epoch 32/75\n",
            "2/2 [==============================] - 3s 2s/step - loss: 0.1325 - accuracy: 0.9636 - val_loss: 2.4030 - val_accuracy: 0.6667\n",
            "Epoch 33/75\n",
            "2/2 [==============================] - 3s 2s/step - loss: 0.2577 - accuracy: 0.9091 - val_loss: 2.5656 - val_accuracy: 0.6458\n",
            "Epoch 34/75\n",
            "2/2 [==============================] - 3s 2s/step - loss: 0.2136 - accuracy: 0.9455 - val_loss: 2.7797 - val_accuracy: 0.6667\n",
            "Epoch 35/75\n",
            "2/2 [==============================] - 3s 2s/step - loss: 0.2464 - accuracy: 0.9273 - val_loss: 2.6719 - val_accuracy: 0.6667\n",
            "Epoch 36/75\n",
            "2/2 [==============================] - 3s 2s/step - loss: 0.1537 - accuracy: 0.9636 - val_loss: 2.6279 - val_accuracy: 0.6667\n",
            "Epoch 37/75\n",
            "2/2 [==============================] - 3s 2s/step - loss: 0.1003 - accuracy: 1.0000 - val_loss: 2.9086 - val_accuracy: 0.6667\n",
            "Epoch 38/75\n",
            "2/2 [==============================] - 3s 2s/step - loss: 0.2125 - accuracy: 0.9273 - val_loss: 3.2515 - val_accuracy: 0.6042\n",
            "Epoch 39/75\n",
            "2/2 [==============================] - 3s 2s/step - loss: 0.1643 - accuracy: 0.9455 - val_loss: 3.1836 - val_accuracy: 0.6042\n",
            "Epoch 40/75\n",
            "2/2 [==============================] - 3s 2s/step - loss: 0.0988 - accuracy: 0.9818 - val_loss: 3.0763 - val_accuracy: 0.6042\n",
            "Epoch 41/75\n",
            "2/2 [==============================] - 4s 4s/step - loss: 0.1111 - accuracy: 0.9818 - val_loss: 2.9112 - val_accuracy: 0.6875\n",
            "Epoch 42/75\n",
            "2/2 [==============================] - 3s 2s/step - loss: 0.0876 - accuracy: 0.9636 - val_loss: 2.8725 - val_accuracy: 0.6667\n",
            "Epoch 43/75\n",
            "2/2 [==============================] - 3s 2s/step - loss: 0.1233 - accuracy: 0.9636 - val_loss: 2.9805 - val_accuracy: 0.6667\n",
            "Epoch 44/75\n",
            "2/2 [==============================] - 3s 2s/step - loss: 0.1341 - accuracy: 0.9455 - val_loss: 3.1231 - val_accuracy: 0.6458\n",
            "Epoch 45/75\n",
            "2/2 [==============================] - 3s 2s/step - loss: 0.0845 - accuracy: 0.9636 - val_loss: 3.3058 - val_accuracy: 0.6458\n",
            "Epoch 46/75\n",
            "2/2 [==============================] - 4s 3s/step - loss: 0.1401 - accuracy: 0.9636 - val_loss: 3.4797 - val_accuracy: 0.6250\n",
            "Epoch 47/75\n",
            "2/2 [==============================] - 3s 2s/step - loss: 0.0736 - accuracy: 0.9818 - val_loss: 3.8439 - val_accuracy: 0.6250\n",
            "Epoch 48/75\n",
            "2/2 [==============================] - 3s 2s/step - loss: 0.0761 - accuracy: 1.0000 - val_loss: 3.8269 - val_accuracy: 0.6250\n",
            "Epoch 49/75\n",
            "2/2 [==============================] - 3s 2s/step - loss: 0.1698 - accuracy: 0.9455 - val_loss: 3.4974 - val_accuracy: 0.6458\n",
            "Epoch 50/75\n",
            "2/2 [==============================] - 3s 2s/step - loss: 0.0649 - accuracy: 0.9818 - val_loss: 3.3720 - val_accuracy: 0.6667\n",
            "Epoch 51/75\n",
            "2/2 [==============================] - 3s 2s/step - loss: 0.1479 - accuracy: 0.9818 - val_loss: 3.4766 - val_accuracy: 0.6250\n",
            "Epoch 52/75\n",
            "2/2 [==============================] - 3s 2s/step - loss: 0.0455 - accuracy: 1.0000 - val_loss: 3.8346 - val_accuracy: 0.6042\n",
            "Epoch 53/75\n",
            "2/2 [==============================] - 3s 2s/step - loss: 0.0997 - accuracy: 0.9636 - val_loss: 3.4308 - val_accuracy: 0.6458\n",
            "Epoch 54/75\n",
            "2/2 [==============================] - 3s 2s/step - loss: 0.0728 - accuracy: 0.9818 - val_loss: 3.5280 - val_accuracy: 0.6250\n",
            "Epoch 55/75\n",
            "2/2 [==============================] - 3s 2s/step - loss: 0.1802 - accuracy: 0.9455 - val_loss: 3.4171 - val_accuracy: 0.6250\n",
            "Epoch 56/75\n",
            "2/2 [==============================] - 3s 2s/step - loss: 0.1792 - accuracy: 0.9818 - val_loss: 3.1232 - val_accuracy: 0.5417\n",
            "Epoch 57/75\n",
            "2/2 [==============================] - 3s 2s/step - loss: 0.0486 - accuracy: 0.9818 - val_loss: 2.9528 - val_accuracy: 0.5417\n",
            "Epoch 58/75\n",
            "2/2 [==============================] - 3s 2s/step - loss: 0.0886 - accuracy: 0.9636 - val_loss: 2.7660 - val_accuracy: 0.6250\n",
            "Epoch 59/75\n",
            "2/2 [==============================] - 3s 2s/step - loss: 0.1236 - accuracy: 0.9636 - val_loss: 2.8818 - val_accuracy: 0.6042\n",
            "Epoch 60/75\n",
            "2/2 [==============================] - 3s 2s/step - loss: 0.1117 - accuracy: 0.9636 - val_loss: 2.8354 - val_accuracy: 0.6667\n",
            "Epoch 61/75\n",
            "2/2 [==============================] - 3s 2s/step - loss: 0.0661 - accuracy: 0.9818 - val_loss: 2.8434 - val_accuracy: 0.6458\n",
            "Epoch 62/75\n",
            "2/2 [==============================] - 3s 2s/step - loss: 0.0508 - accuracy: 1.0000 - val_loss: 2.9485 - val_accuracy: 0.6875\n",
            "Epoch 63/75\n",
            "2/2 [==============================] - 3s 2s/step - loss: 0.0724 - accuracy: 0.9818 - val_loss: 3.0269 - val_accuracy: 0.7083\n",
            "Epoch 64/75\n",
            "2/2 [==============================] - 3s 2s/step - loss: 0.0929 - accuracy: 0.9636 - val_loss: 3.0403 - val_accuracy: 0.7083\n",
            "Epoch 65/75\n",
            "2/2 [==============================] - 3s 2s/step - loss: 0.0363 - accuracy: 1.0000 - val_loss: 3.0395 - val_accuracy: 0.7083\n",
            "Epoch 66/75\n",
            "2/2 [==============================] - 3s 2s/step - loss: 0.0294 - accuracy: 1.0000 - val_loss: 3.0380 - val_accuracy: 0.7083\n",
            "Epoch 67/75\n",
            "2/2 [==============================] - 3s 2s/step - loss: 0.0366 - accuracy: 1.0000 - val_loss: 3.0517 - val_accuracy: 0.7083\n",
            "Epoch 68/75\n",
            "2/2 [==============================] - 3s 2s/step - loss: 0.0547 - accuracy: 0.9818 - val_loss: 3.0631 - val_accuracy: 0.7083\n",
            "Epoch 69/75\n",
            "2/2 [==============================] - 3s 2s/step - loss: 0.1473 - accuracy: 0.9818 - val_loss: 3.0641 - val_accuracy: 0.6875\n",
            "Epoch 70/75\n",
            "2/2 [==============================] - 4s 3s/step - loss: 0.0798 - accuracy: 0.9818 - val_loss: 3.1601 - val_accuracy: 0.6667\n",
            "Epoch 71/75\n",
            "2/2 [==============================] - 3s 2s/step - loss: 0.0475 - accuracy: 1.0000 - val_loss: 3.2163 - val_accuracy: 0.6458\n",
            "Epoch 72/75\n",
            "2/2 [==============================] - 3s 2s/step - loss: 0.0818 - accuracy: 0.9636 - val_loss: 2.9797 - val_accuracy: 0.6042\n",
            "Epoch 73/75\n",
            "2/2 [==============================] - 3s 2s/step - loss: 0.0823 - accuracy: 0.9636 - val_loss: 3.1164 - val_accuracy: 0.6250\n",
            "Epoch 74/75\n",
            "2/2 [==============================] - 3s 2s/step - loss: 0.2899 - accuracy: 0.8545 - val_loss: 3.3942 - val_accuracy: 0.6250\n",
            "Epoch 75/75\n",
            "2/2 [==============================] - 3s 2s/step - loss: 0.1551 - accuracy: 0.9455 - val_loss: 3.3702 - val_accuracy: 0.6250\n"
          ]
        },
        {
          "output_type": "execute_result",
          "data": {
            "text/plain": [
              "<keras.callbacks.History at 0x7fe09e191310>"
            ]
          },
          "metadata": {},
          "execution_count": 40
        }
      ]
    },
    {
      "cell_type": "code",
      "source": [
        "model.summary()"
      ],
      "metadata": {
        "colab": {
          "base_uri": "https://localhost:8080/"
        },
        "id": "yqJ5Wp0DrVrr",
        "outputId": "84498d12-e43e-4ea5-db5c-3b789ccb2800"
      },
      "execution_count": null,
      "outputs": [
        {
          "output_type": "stream",
          "name": "stdout",
          "text": [
            "Model: \"sequential_2\"\n",
            "_________________________________________________________________\n",
            " Layer (type)                Output Shape              Param #   \n",
            "=================================================================\n",
            " conv2d_8 (Conv2D)           (None, 46, 46, 32)        320       \n",
            "                                                                 \n",
            " conv2d_9 (Conv2D)           (None, 44, 44, 64)        18496     \n",
            "                                                                 \n",
            " max_pooling2d_6 (MaxPooling  (None, 22, 22, 64)       0         \n",
            " 2D)                                                             \n",
            "                                                                 \n",
            " dropout_8 (Dropout)         (None, 22, 22, 64)        0         \n",
            "                                                                 \n",
            " conv2d_10 (Conv2D)          (None, 20, 20, 128)       73856     \n",
            "                                                                 \n",
            " max_pooling2d_7 (MaxPooling  (None, 10, 10, 128)      0         \n",
            " 2D)                                                             \n",
            "                                                                 \n",
            " dropout_9 (Dropout)         (None, 10, 10, 128)       0         \n",
            "                                                                 \n",
            " conv2d_11 (Conv2D)          (None, 8, 8, 256)         295168    \n",
            "                                                                 \n",
            " max_pooling2d_8 (MaxPooling  (None, 4, 4, 256)        0         \n",
            " 2D)                                                             \n",
            "                                                                 \n",
            " dropout_10 (Dropout)        (None, 4, 4, 256)         0         \n",
            "                                                                 \n",
            " flatten_2 (Flatten)         (None, 4096)              0         \n",
            "                                                                 \n",
            " dense_4 (Dense)             (None, 512)               2097664   \n",
            "                                                                 \n",
            " dropout_11 (Dropout)        (None, 512)               0         \n",
            "                                                                 \n",
            " dense_5 (Dense)             (None, 7)                 3591      \n",
            "                                                                 \n",
            "=================================================================\n",
            "Total params: 2,489,095\n",
            "Trainable params: 2,489,095\n",
            "Non-trainable params: 0\n",
            "_________________________________________________________________\n"
          ]
        }
      ]
    },
    {
      "cell_type": "markdown",
      "source": [
        "Chart"
      ],
      "metadata": {
        "id": "y_nRcPtKtdeW"
      }
    },
    {
      "cell_type": "code",
      "source": [
        "losses = pd.DataFrame(model.history.history)\n",
        "losses.plot()"
      ],
      "metadata": {
        "colab": {
          "base_uri": "https://localhost:8080/",
          "height": 286
        },
        "id": "YO_VCcbWtVuc",
        "outputId": "a63d4a43-888f-4557-b460-c5a726e58868"
      },
      "execution_count": null,
      "outputs": [
        {
          "output_type": "execute_result",
          "data": {
            "text/plain": [
              "<matplotlib.axes._subplots.AxesSubplot at 0x7fe09e0e2990>"
            ]
          },
          "metadata": {},
          "execution_count": 42
        },
        {
          "output_type": "display_data",
          "data": {
            "text/plain": [
              "<Figure size 432x288 with 1 Axes>"
            ],
            "image/png": "[encoded data removed]"
          },
          "metadata": {
            "needs_background": "light"
          }
        }
      ]
    },
    {
      "cell_type": "markdown",
      "source": [
        "Prediction"
      ],
      "metadata": {
        "id": "nToyQFB3txQH"
      }
    },
    {
      "cell_type": "code",
      "source": [
        "predictions = model.predict(x = validation_generator)"
      ],
      "metadata": {
        "colab": {
          "base_uri": "https://localhost:8080/"
        },
        "id": "Gr2oOGsktoJx",
        "outputId": "483463a8-d873-48f0-81dc-82edad39edb9"
      },
      "execution_count": null,
      "outputs": [
        {
          "output_type": "stream",
          "name": "stdout",
          "text": [
            "2/2 [==============================] - 3s 478ms/step\n"
          ]
        }
      ]
    },
    {
      "cell_type": "code",
      "source": [
        "predictions = np.argmax(predictions, axis=-1)\n",
        "for i in predictions:\n",
        "    print(i)"
      ],
      "metadata": {
        "colab": {
          "base_uri": "https://localhost:8080/"
        },
        "id": "BK_qV2KutrTc",
        "outputId": "e8de08c4-6184-4f24-e88f-a5e8d4fbc7bf"
      },
      "execution_count": null,
      "outputs": [
        {
          "output_type": "stream",
          "name": "stdout",
          "text": [
            "0\n",
            "0\n",
            "0\n",
            "4\n",
            "1\n",
            "4\n",
            "3\n",
            "2\n",
            "1\n",
            "6\n",
            "1\n",
            "1\n",
            "1\n",
            "2\n",
            "5\n",
            "6\n",
            "1\n",
            "3\n",
            "0\n",
            "3\n",
            "2\n",
            "2\n",
            "5\n",
            "0\n",
            "0\n",
            "5\n",
            "0\n",
            "1\n",
            "3\n",
            "0\n",
            "6\n",
            "2\n",
            "4\n",
            "6\n",
            "5\n",
            "0\n",
            "1\n",
            "5\n",
            "5\n",
            "1\n",
            "0\n",
            "1\n",
            "1\n",
            "6\n",
            "3\n",
            "6\n",
            "5\n",
            "1\n"
          ]
        }
      ]
    },
    {
      "cell_type": "code",
      "source": [
        "#training_set.class_indices"
      ],
      "metadata": {
        "id": "gnBhp_bdt6Up"
      },
      "execution_count": null,
      "outputs": []
    },
    {
      "cell_type": "markdown",
      "source": [
        "Confusion Matrix"
      ],
      "metadata": {
        "id": "MesEXLF_qFMW"
      }
    },
    {
      "cell_type": "code",
      "source": [
        "from sklearn.metrics import confusion_matrix\n",
        "import seaborn as sns"
      ],
      "metadata": {
        "id": "gLO_sNZVuhAC"
      },
      "execution_count": null,
      "outputs": []
    },
    {
      "cell_type": "code",
      "source": [
        "plt.figure(figsize=(12,6), dpi = 100)\n",
        "cm = confusion_matrix(validation_generator.labels, predictions)\n",
        "\n",
        "sns.heatmap(cm, annot=True)"
      ],
      "metadata": {
        "colab": {
          "base_uri": "https://localhost:8080/",
          "height": 537
        },
        "id": "5cWTmMvcvBA0",
        "outputId": "c7334d6b-bbfb-4ab2-da8c-7dce07bb003e"
      },
      "execution_count": null,
      "outputs": [
        {
          "output_type": "execute_result",
          "data": {
            "text/plain": [
              "<matplotlib.axes._subplots.AxesSubplot at 0x7fe09e06cb50>"
            ]
          },
          "metadata": {},
          "execution_count": 50
        },
        {
          "output_type": "display_data",
          "data": {
            "text/plain": [
              "<Figure size 1200x600 with 2 Axes>"
            ],
            "image/png": "[encoded data removed]"
          },
          "metadata": {
            "needs_background": "light"
          }
        }
      ]
    },
    {
      "cell_type": "code",
      "source": [
        "train_path = \"/content/drive/MyDrive/Facial_Emotion_Recognition/Dataset/train\"\n",
        "test_path = \"/content/drive/MyDrive/Facial_Emotion_Recognition/Dataset/test\"\n",
        "\n",
        "#Take images and count them (because we are going to use it in epocx)\n",
        "num_train_imgs = 0\n",
        "for root, dirs, files in os.walk(train_path):\n",
        "    num_train_imgs += len(files)\n",
        "    \n",
        "num_test_imgs = 0\n",
        "for root, dirs, files in os.walk(test_path):\n",
        "    num_test_imgs += len(files)\n",
        "    \n",
        "print(num_train_imgs)\n",
        "print(num_test_imgs)"
      ],
      "metadata": {
        "colab": {
          "base_uri": "https://localhost:8080/"
        },
        "id": "MOkwwkTCp4qc",
        "outputId": "5136c44d-0590-4f2c-e84b-55abfa78f53d"
      },
      "execution_count": null,
      "outputs": [
        {
          "output_type": "stream",
          "name": "stdout",
          "text": [
            "55\n",
            "48\n"
          ]
        }
      ]
    },
    {
      "cell_type": "markdown",
      "source": [
        "Training the model"
      ],
      "metadata": {
        "id": "Nwc_AOrkqwiA"
      }
    },
    {
      "cell_type": "code",
      "source": [
        "epochs=30\n",
        "\n",
        "history=model.fit(train_generator,\n",
        "                steps_per_epoch=num_train_imgs//32,\n",
        "                epochs=epochs,\n",
        "                validation_data=validation_generator,\n",
        "                validation_steps=num_test_imgs//32)\n",
        "\n",
        "model.save('/content/drive/MyDrive/Facial_Emotion_Recognition/model_file_30epochs.h5')"
      ],
      "metadata": {
        "colab": {
          "base_uri": "https://localhost:8080/"
        },
        "id": "B2DbJxkJqNWt",
        "outputId": "78c9cb0f-da12-4ebb-856a-27d50466ea0d"
      },
      "execution_count": null,
      "outputs": [
        {
          "output_type": "stream",
          "name": "stdout",
          "text": [
            "Epoch 1/30\n",
            "1/1 [==============================] - 20s 20s/step - loss: 1.9482 - accuracy: 0.0938 - val_loss: 1.9440 - val_accuracy: 0.1562\n",
            "Epoch 2/30\n",
            "1/1 [==============================] - 2s 2s/step - loss: 2.0348 - accuracy: 0.1250 - val_loss: 1.9401 - val_accuracy: 0.0938\n",
            "Epoch 3/30\n",
            "1/1 [==============================] - 2s 2s/step - loss: 1.9451 - accuracy: 0.1250 - val_loss: 1.9622 - val_accuracy: 0.0938\n",
            "Epoch 4/30\n",
            "1/1 [==============================] - 3s 3s/step - loss: 1.9736 - accuracy: 0.1250 - val_loss: 1.9575 - val_accuracy: 0.1250\n",
            "Epoch 5/30\n",
            "1/1 [==============================] - 2s 2s/step - loss: 1.9593 - accuracy: 0.1250 - val_loss: 1.9473 - val_accuracy: 0.1250\n",
            "Epoch 6/30\n",
            "1/1 [==============================] - 3s 3s/step - loss: 1.9161 - accuracy: 0.2188 - val_loss: 1.9470 - val_accuracy: 0.2188\n",
            "Epoch 7/30\n",
            "1/1 [==============================] - 2s 2s/step - loss: 1.9697 - accuracy: 0.0435 - val_loss: 1.9515 - val_accuracy: 0.1250\n",
            "Epoch 8/30\n",
            "1/1 [==============================] - 2s 2s/step - loss: 1.9705 - accuracy: 0.1304 - val_loss: 1.9428 - val_accuracy: 0.2500\n",
            "Epoch 9/30\n",
            "1/1 [==============================] - 2s 2s/step - loss: 1.9388 - accuracy: 0.1739 - val_loss: 1.9515 - val_accuracy: 0.1562\n",
            "Epoch 10/30\n",
            "1/1 [==============================] - 2s 2s/step - loss: 1.9364 - accuracy: 0.1304 - val_loss: 1.9554 - val_accuracy: 0.1250\n",
            "Epoch 11/30\n",
            "1/1 [==============================] - 2s 2s/step - loss: 1.9372 - accuracy: 0.1739 - val_loss: 1.9718 - val_accuracy: 0.0625\n",
            "Epoch 12/30\n",
            "1/1 [==============================] - 2s 2s/step - loss: 1.9373 - accuracy: 0.1250 - val_loss: 1.9505 - val_accuracy: 0.0938\n",
            "Epoch 13/30\n",
            "1/1 [==============================] - 2s 2s/step - loss: 1.9416 - accuracy: 0.1875 - val_loss: 1.9625 - val_accuracy: 0.1250\n",
            "Epoch 14/30\n",
            "1/1 [==============================] - 2s 2s/step - loss: 1.9197 - accuracy: 0.2174 - val_loss: 1.9837 - val_accuracy: 0.0625\n",
            "Epoch 15/30\n",
            "1/1 [==============================] - 2s 2s/step - loss: 1.9376 - accuracy: 0.1250 - val_loss: 1.9691 - val_accuracy: 0.1250\n",
            "Epoch 16/30\n",
            "1/1 [==============================] - 2s 2s/step - loss: 1.9002 - accuracy: 0.1562 - val_loss: 2.0143 - val_accuracy: 0.0625\n",
            "Epoch 17/30\n",
            "1/1 [==============================] - 2s 2s/step - loss: 1.9584 - accuracy: 0.1250 - val_loss: 1.9780 - val_accuracy: 0.1875\n",
            "Epoch 18/30\n",
            "1/1 [==============================] - 2s 2s/step - loss: 1.9648 - accuracy: 0.1562 - val_loss: 1.9777 - val_accuracy: 0.1562\n",
            "Epoch 19/30\n",
            "1/1 [==============================] - 2s 2s/step - loss: 1.9760 - accuracy: 0.0435 - val_loss: 1.9491 - val_accuracy: 0.1562\n",
            "Epoch 20/30\n",
            "1/1 [==============================] - 2s 2s/step - loss: 1.9597 - accuracy: 0.1304 - val_loss: 1.9392 - val_accuracy: 0.1562\n",
            "Epoch 21/30\n",
            "1/1 [==============================] - 2s 2s/step - loss: 1.9311 - accuracy: 0.1562 - val_loss: 1.9443 - val_accuracy: 0.1875\n",
            "Epoch 22/30\n",
            "1/1 [==============================] - 2s 2s/step - loss: 1.9521 - accuracy: 0.0938 - val_loss: 1.9492 - val_accuracy: 0.1562\n",
            "Epoch 23/30\n",
            "1/1 [==============================] - 2s 2s/step - loss: 1.9391 - accuracy: 0.1562 - val_loss: 1.9420 - val_accuracy: 0.1562\n",
            "Epoch 24/30\n",
            "1/1 [==============================] - 2s 2s/step - loss: 1.9417 - accuracy: 0.2500 - val_loss: 1.9404 - val_accuracy: 0.0938\n",
            "Epoch 25/30\n",
            "1/1 [==============================] - 2s 2s/step - loss: 1.9432 - accuracy: 0.1562 - val_loss: 1.9443 - val_accuracy: 0.1250\n",
            "Epoch 26/30\n",
            "1/1 [==============================] - 2s 2s/step - loss: 1.9422 - accuracy: 0.0938 - val_loss: 1.9470 - val_accuracy: 0.1562\n",
            "Epoch 27/30\n",
            "1/1 [==============================] - 2s 2s/step - loss: 1.9406 - accuracy: 0.1562 - val_loss: 1.9451 - val_accuracy: 0.1562\n",
            "Epoch 28/30\n",
            "1/1 [==============================] - 2s 2s/step - loss: 1.9388 - accuracy: 0.2188 - val_loss: 1.9476 - val_accuracy: 0.1250\n",
            "Epoch 29/30\n",
            "1/1 [==============================] - 2s 2s/step - loss: 1.9334 - accuracy: 0.1739 - val_loss: 1.9446 - val_accuracy: 0.1250\n",
            "Epoch 30/30\n",
            "1/1 [==============================] - 4s 4s/step - loss: 1.9328 - accuracy: 0.1739 - val_loss: 1.9412 - val_accuracy: 0.0938\n"
          ]
        }
      ]
    },
    {
      "cell_type": "code",
      "source": [
        "import random\n",
        "\n",
        "i=random.randint(0, (img.shape[0])-1)\n",
        "image = img[i]\n",
        "labl = class_labels[label[i].argmax()]\n",
        "plt.imshow(image[:,:,0], cmap='gray')\n",
        "plt.title(labl)\n",
        "plt.show()"
      ],
      "metadata": {
        "colab": {
          "base_uri": "https://localhost:8080/",
          "height": 281
        },
        "id": "SFNwc4oPrY_W",
        "outputId": "dead704a-569c-4953-ce06-9885cc8cc9ca"
      },
      "execution_count": null,
      "outputs": [
        {
          "output_type": "display_data",
          "data": {
            "text/plain": [
              "<Figure size 432x288 with 1 Axes>"
            ],
            "image/png": "[encoded data removed]"
          },
          "metadata": {
            "needs_background": "light"
          }
        }
      ]
    },
    {
      "cell_type": "code",
      "source": [],
      "metadata": {
        "id": "n4Njcif3zoXs"
      },
      "execution_count": null,
      "outputs": []
    }
  ]
}