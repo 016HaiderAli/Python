{
 "cells": [
  {
   "cell_type": "code",
   "execution_count": 1,
   "metadata": {},
   "outputs": [],
   "source": [
    "#List Operations\n",
    "#Given a list of numbers, output \"bingo\" if it contains the input number.\n",
    "\n",
    "#Do not output anything if the number is not found.\n",
    "\n",
    "x = [42, 8, 7, 1, 0, 124, 8897, 555, 3, 67, 99]\n",
    "\n",
    "num = int(input())\n",
    "if num in x:\n",
    "    print(\"bingo\")\n",
    "    "
   ]
  },
  {
   "attachments": {},
   "cell_type": "markdown",
   "metadata": {},
   "source": [
    "for Loops\n",
    "for loops allow you to easily iterate through lists.\n",
    "\n",
    "Given a list of numbers, calculate their sum using a for loop.\n",
    "\n",
    "level\n",
    "Output the sum after the loop."
   ]
  },
  {
   "cell_type": "code",
   "execution_count": 3,
   "metadata": {},
   "outputs": [
    {
     "name": "stdout",
     "output_type": "stream",
     "text": [
      "9803\n"
     ]
    }
   ],
   "source": [
    "x = [42, 8, 7, 1, 0, 124, 8897, 555, 3, 67, 99]\n",
    "\n",
    "sum = 0\n",
    "\n",
    "for num in x:\n",
    "    sum = sum + num\n",
    "print(sum)    \n"
   ]
  },
  {
   "cell_type": "code",
   "execution_count": null,
   "metadata": {},
   "outputs": [],
   "source": []
  }
 ],
 "metadata": {
  "kernelspec": {
   "display_name": "Python 3",
   "language": "python",
   "name": "python3"
  },
  "language_info": {
   "codemirror_mode": {
    "name": "ipython",
    "version": 3
   },
   "file_extension": ".py",
   "mimetype": "text/x-python",
   "name": "python",
   "nbconvert_exporter": "python",
   "pygments_lexer": "ipython3",
   "version": "3.11.1"
  },
  "orig_nbformat": 4
 },
 "nbformat": 4,
 "nbformat_minor": 2
}
