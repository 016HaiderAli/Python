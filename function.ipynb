{
 "cells": [
  {
   "cell_type": "code",
   "execution_count": 2,
   "metadata": {},
   "outputs": [
    {
     "name": "stdout",
     "output_type": "stream",
     "text": [
      "5\n",
      "3\n",
      "2\n",
      "1\n",
      "15\n"
     ]
    }
   ],
   "source": [
    "def input_number():\n",
    "    return int(input(\"Enter a number: \"))\n",
    "\n",
    "input1 = input_number()\n",
    "print(input1)\n",
    "input2 = input_number()\n",
    "print(input2)\n",
    "input3 = input_number()\n",
    "print(input3)\n",
    "input4 = input_number()\n",
    "print(input4)\n",
    "input5 = input_number()\n",
    "print(input5)\n",
    "\n",
    "# input1 = input_number()\n",
    "# input2 = input_number()"
   ]
  },
  {
   "cell_type": "code",
   "execution_count": 6,
   "metadata": {},
   "outputs": [
    {
     "name": "stdout",
     "output_type": "stream",
     "text": [
      "25\n"
     ]
    }
   ],
   "source": [
    "#Define a function that gets the user input and multiply it by a number we passed to the function.\n",
    "\n",
    "def multi_num(num):\n",
    "    return int(input(\"Enter a number\")) * num #user ki requirement \n",
    "\n",
    "\n",
    "print( multi_num(5) ) # apki requirement \n",
    "\n",
    "# print( multi_num(10) ) "
   ]
  },
  {
   "cell_type": "code",
   "execution_count": 7,
   "metadata": {},
   "outputs": [
    {
     "name": "stdout",
     "output_type": "stream",
     "text": [
      "The tallest student is Jackson\n"
     ]
    }
   ],
   "source": [
    "# What is the output of the following snippet:\n",
    "\n",
    "def my_function(*students):\n",
    "  print(\"The tallest student is \" + students[2])\n",
    "\n",
    "my_function(\"James\", \"Ella\", \"Jackson\")\n",
    "\n",
    "#If the number of arguments is unknown, we can add a * before the parameter name."
   ]
  },
  {
   "cell_type": "code",
   "execution_count": 8,
   "metadata": {},
   "outputs": [
    {
     "name": "stdout",
     "output_type": "stream",
     "text": [
      "1\n"
     ]
    }
   ],
   "source": [
    "a = 0\n",
    "def add_one(a):\n",
    "\treturn a+1\n",
    "\n",
    "result = add_one(a)\n",
    "print(result)"
   ]
  },
  {
   "cell_type": "code",
   "execution_count": 9,
   "metadata": {},
   "outputs": [],
   "source": [
    "#Choose the correct answer which defines a function to get numeric input from the user:\n",
    "\n",
    "def input_num(): return int(input())"
   ]
  },
  {
   "cell_type": "code",
   "execution_count": 10,
   "metadata": {},
   "outputs": [
    {
     "ename": "TypeError",
     "evalue": "multi_func() got multiple values for argument 'num1'",
     "output_type": "error",
     "traceback": [
      "\u001b[1;31m---------------------------------------------------------------------------\u001b[0m",
      "\u001b[1;31mTypeError\u001b[0m                                 Traceback (most recent call last)",
      "Cell \u001b[1;32mIn[10], line 3\u001b[0m\n\u001b[0;32m      1\u001b[0m \u001b[39mdef\u001b[39;00m \u001b[39mmulti_func\u001b[39m(num1,num2):\n\u001b[0;32m      2\u001b[0m                       \u001b[39mreturn\u001b[39;00m num1 \u001b[39m*\u001b[39mnum2 \n\u001b[1;32m----> 3\u001b[0m \u001b[39mprint\u001b[39m ( multi_func(\u001b[39m5\u001b[39;49m , num1\u001b[39m=\u001b[39;49m \u001b[39m10\u001b[39;49m)) \n",
      "\u001b[1;31mTypeError\u001b[0m: multi_func() got multiple values for argument 'num1'"
     ]
    }
   ],
   "source": [
    "def multi_func(num1,num2):\n",
    "                      return num1 *num2 \n",
    "print ( multi_func(5 , num1= 10)) "
   ]
  },
  {
   "cell_type": "code",
   "execution_count": 11,
   "metadata": {},
   "outputs": [
    {
     "name": "stdout",
     "output_type": "stream",
     "text": [
      "john 19\n"
     ]
    }
   ],
   "source": [
    "def print_info(name, age=18):\n",
    "    print(name, age)\n",
    "\n",
    "print_info('john', 19)"
   ]
  },
  {
   "cell_type": "code",
   "execution_count": 1,
   "metadata": {},
   "outputs": [
    {
     "name": "stdout",
     "output_type": "stream",
     "text": [
      "10\n"
     ]
    }
   ],
   "source": [
    "def add_func(num1,num2):\n",
    "            \t  \treturn num1 + num2 \n",
    "\t\t\n",
    "print ( add_func(5 , 5) )"
   ]
  },
  {
   "cell_type": "code",
   "execution_count": 2,
   "metadata": {},
   "outputs": [
    {
     "ename": "TypeError",
     "evalue": "add_func() got multiple values for argument 'num1'",
     "output_type": "error",
     "traceback": [
      "\u001b[1;31m---------------------------------------------------------------------------\u001b[0m",
      "\u001b[1;31mTypeError\u001b[0m                                 Traceback (most recent call last)",
      "Cell \u001b[1;32mIn[2], line 4\u001b[0m\n\u001b[0;32m      1\u001b[0m \u001b[39mdef\u001b[39;00m \u001b[39madd_func\u001b[39m(num1,num2):\n\u001b[0;32m      2\u001b[0m                    \t\u001b[39mreturn\u001b[39;00m num1 \u001b[39m+\u001b[39m num2\n\u001b[1;32m----> 4\u001b[0m \u001b[39mprint\u001b[39m ( add_func(\u001b[39m5\u001b[39;49m , num1\u001b[39m=\u001b[39;49m \u001b[39m10\u001b[39;49m) ) \u001b[39m#returns an error since python couldnt recognise the value of first parameters is 10 or 5\u001b[39;00m\n",
      "\u001b[1;31mTypeError\u001b[0m: add_func() got multiple values for argument 'num1'"
     ]
    }
   ],
   "source": [
    "def add_func(num1,num2):\n",
    "                   \treturn num1 + num2\n",
    " \n",
    "print ( add_func(5 , num1= 10) ) #returns an error since python couldnt recognise the value of first parameters is 10 or 5"
   ]
  },
  {
   "cell_type": "code",
   "execution_count": 3,
   "metadata": {},
   "outputs": [
    {
     "name": "stdout",
     "output_type": "stream",
     "text": [
      "John Mark\n"
     ]
    }
   ],
   "source": [
    "def fullname_func(fname, lname):\n",
    "  print(fname + \" \" + lname)\n",
    "\n",
    "fullname_func(\"John\", \"Mark\")"
   ]
  },
  {
   "cell_type": "code",
   "execution_count": 4,
   "metadata": {},
   "outputs": [
    {
     "name": "stdout",
     "output_type": "stream",
     "text": [
      "John Mark\n"
     ]
    }
   ],
   "source": [
    "def fullname_func(fname):\n",
    "  print(fname + \" Mark\")\n",
    "\n",
    "fullname_func(\"John\")"
   ]
  },
  {
   "cell_type": "code",
   "execution_count": 5,
   "metadata": {},
   "outputs": [
    {
     "name": "stdout",
     "output_type": "stream",
     "text": [
      "The tallest student is john\n"
     ]
    }
   ],
   "source": [
    "def my_function(*friends):\n",
    "  print(\"The tallest student is \" + friends[0])\n",
    "\n",
    "my_function(\"john\", \"Ella\", \"mark\")"
   ]
  },
  {
   "cell_type": "code",
   "execution_count": 7,
   "metadata": {},
   "outputs": [
    {
     "name": "stdout",
     "output_type": "stream",
     "text": [
      "11\n"
     ]
    }
   ],
   "source": [
    "#Sample input:  6\n",
    "#Sample output: \n",
    "def add_num(num): #parameter\n",
    "    return int(input()) + num\n",
    "print( add_num(5) ) #argument"
   ]
  },
  {
   "cell_type": "code",
   "execution_count": 8,
   "metadata": {},
   "outputs": [
    {
     "name": "stdout",
     "output_type": "stream",
     "text": [
      "john 18\n"
     ]
    }
   ],
   "source": [
    "def print_name_age(name, age=19):\n",
    "    print(name, age)\n",
    "\n",
    "print_name_age('john', 18)"
   ]
  },
  {
   "cell_type": "code",
   "execution_count": 9,
   "metadata": {},
   "outputs": [
    {
     "name": "stdout",
     "output_type": "stream",
     "text": [
      "[7, 4, 5]\n"
     ]
    }
   ],
   "source": [
    "nums= [7,4,1]\n",
    "def change_third_item(list):\n",
    "\tlist[2] = 5\n",
    "\n",
    "change_third_item(nums)\n",
    "print(nums)"
   ]
  },
  {
   "cell_type": "code",
   "execution_count": 11,
   "metadata": {},
   "outputs": [
    {
     "name": "stdout",
     "output_type": "stream",
     "text": [
      "3\n"
     ]
    }
   ],
   "source": [
    "#The output of the following snippet of the code will be:\n",
    "\n",
    "a = 0\n",
    "def add_three(a):\n",
    "\treturn a+3\n",
    "\n",
    "result = add_three(a)\n",
    "print(result)"
   ]
  },
  {
   "cell_type": "code",
   "execution_count": 12,
   "metadata": {},
   "outputs": [
    {
     "name": "stdout",
     "output_type": "stream",
     "text": [
      "6\n"
     ]
    }
   ],
   "source": [
    "a = 0\n",
    "def add_three(a):\n",
    "\treturn a+3\n",
    "\n",
    "result = add_three(3)\n",
    "print(result)"
   ]
  },
  {
   "cell_type": "code",
   "execution_count": null,
   "metadata": {},
   "outputs": [],
   "source": []
  }
 ],
 "metadata": {
  "kernelspec": {
   "display_name": ".venv",
   "language": "python",
   "name": "python3"
  },
  "language_info": {
   "codemirror_mode": {
    "name": "ipython",
    "version": 3
   },
   "file_extension": ".py",
   "mimetype": "text/x-python",
   "name": "python",
   "nbconvert_exporter": "python",
   "pygments_lexer": "ipython3",
   "version": "3.11.1"
  },
  "orig_nbformat": 4
 },
 "nbformat": 4,
 "nbformat_minor": 2
}
