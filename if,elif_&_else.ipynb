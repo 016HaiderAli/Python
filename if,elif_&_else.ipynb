{
  "nbformat": 4,
  "nbformat_minor": 0,
  "metadata": {
    "colab": {
      "provenance": [],
      "authorship_tag": "ABX9TyPNa6uCnAJ7W7NKL4MJ2sqq",
      "include_colab_link": true
    },
    "kernelspec": {
      "name": "python3",
      "display_name": "Python 3"
    },
    "language_info": {
      "name": "python"
    }
  },
  "cells": [
    {
      "cell_type": "markdown",
      "metadata": {
        "id": "view-in-github",
        "colab_type": "text"
      },
      "source": [
        "<a href=\"https://colab.research.google.com/github/016HaiderAli/Python/blob/master/if%2Celif_%26_else.ipynb\" target=\"_parent\"><img src=\"https://colab.research.google.com/assets/colab-badge.svg\" alt=\"Open In Colab\"/></a>"
      ]
    },
    {
      "cell_type": "code",
      "execution_count": 2,
      "metadata": {
        "colab": {
          "base_uri": "https://localhost:8080/"
        },
        "id": "rxJDa07Hp-Ys",
        "outputId": "d854ebaf-5054-42a4-8100-2396913829d3"
      },
      "outputs": [
        {
          "output_type": "stream",
          "name": "stdout",
          "text": [
            "6  is an even number\n"
          ]
        }
      ],
      "source": [
        "x=6\n",
        "if x % 2 == 0: #true\n",
        "   print(x , \" is an even number\")    "
      ]
    },
    {
      "cell_type": "code",
      "source": [
        "x=3\n",
        "if x % 2 == 0: #true\n",
        "   print(x , \" is an even number\")\n",
        "else:\n",
        "  print(x, \" is an odd number\")      "
      ],
      "metadata": {
        "colab": {
          "base_uri": "https://localhost:8080/"
        },
        "id": "OJyRwFCzqXE1",
        "outputId": "5c9335a5-e0fa-45dd-e5e1-78de32540ced"
      },
      "execution_count": 3,
      "outputs": [
        {
          "output_type": "stream",
          "name": "stdout",
          "text": [
            "3  is an odd number\n"
          ]
        }
      ]
    },
    {
      "cell_type": "code",
      "source": [
        "x=5\n",
        "if x % 2 == 0: #true\n",
        "   print(x , \" is divisible by 2\")\n",
        "elif x % 3 == 0 :\n",
        "  print(x, \" is divisble by 3\")\n",
        "else:\n",
        "  print(x, \" is neither divisible by 2 nor 3\")       "
      ],
      "metadata": {
        "colab": {
          "base_uri": "https://localhost:8080/"
        },
        "id": "tubwIK7cqmOW",
        "outputId": "162c9b7a-6099-454a-e37c-02ce0fe4f6e5"
      },
      "execution_count": 6,
      "outputs": [
        {
          "output_type": "stream",
          "name": "stdout",
          "text": [
            "5  is neither divisible by 2 nor 3\n"
          ]
        }
      ]
    },
    {
      "cell_type": "code",
      "source": [
        "#Warmup\n",
        "area = 10.0\n",
        "if(area < 9) :\n",
        "    print(\"small\")\n",
        "elif(area < 12) :\n",
        "    print(\"medium\")\n",
        "else :\n",
        "    print(\"large\")"
      ],
      "metadata": {
        "colab": {
          "base_uri": "https://localhost:8080/"
        },
        "id": "AkxF2wvdqtWh",
        "outputId": "cf4522d1-e617-4f8b-c5b6-1b315782ded6"
      },
      "execution_count": 7,
      "outputs": [
        {
          "output_type": "stream",
          "name": "stdout",
          "text": [
            "medium\n"
          ]
        }
      ]
    },
    {
      "cell_type": "code",
      "source": [
        "#Exercise if\n",
        "#It's time to take a closer look around in your house.\n",
        "\n",
        "#Two variables are defined in the sample code: room, a string that tells you which room of the house we're looking at, and area, the area of that room.\n",
        "\n",
        "# Define variables\n",
        "room = \"kit\"\n",
        "area = 14.0\n",
        "\n",
        "# if statement for room\n",
        "if room == \"kit\" :\n",
        "    print(\"looking around in the kitchen.\")\n",
        "\n",
        "# if statement for area\n",
        "if area > 15:\n",
        "    print(\"big place\")"
      ],
      "metadata": {
        "colab": {
          "base_uri": "https://localhost:8080/"
        },
        "id": "ZQS41QnerPj0",
        "outputId": "f5d3ffee-b44e-41e7-a4cf-3512d911eae4"
      },
      "execution_count": 8,
      "outputs": [
        {
          "output_type": "stream",
          "name": "stdout",
          "text": [
            "looking around in the kitchen.\n"
          ]
        }
      ]
    },
    {
      "cell_type": "code",
      "source": [
        "#Add else\n",
        "# Define variables\n",
        "room = \"kit\"\n",
        "area = 14.0\n",
        "\n",
        "# if-else construct for room\n",
        "if room == \"kit\" :\n",
        "    print(\"looking around in the kitchen.\")\n",
        "else :\n",
        "    print(\"looking around elsewhere.\")\n",
        "\n",
        "# if-else construct for area\n",
        "if area > 15 :\n",
        "    print(\"big place!\")\n",
        "else:\n",
        "    print(\"pretty small.\")    "
      ],
      "metadata": {
        "colab": {
          "base_uri": "https://localhost:8080/"
        },
        "id": "p6cI81AgrxP8",
        "outputId": "9aaf047e-3459-48f1-e2bb-aa613b518cac"
      },
      "execution_count": 9,
      "outputs": [
        {
          "output_type": "stream",
          "name": "stdout",
          "text": [
            "looking around in the kitchen.\n",
            "pretty small.\n"
          ]
        }
      ]
    },
    {
      "cell_type": "markdown",
      "source": [
        "Customize further: elif <br>\n",
        "It's also possible to have a look around in the bedroom. The sample code contains an elif part that checks if room equals \"bed\". In that case, \"looking around in the bedroom.\" is printed out.\n",
        "\n",
        "It's up to you now! Make a similar addition to the second control structure to further customize the messages for different values of area."
      ],
      "metadata": {
        "id": "3TvZrKMwsaYg"
      }
    },
    {
      "cell_type": "code",
      "source": [
        "# Define variables\n",
        "room = \"bed\"\n",
        "area = 14.0\n",
        "\n",
        "# if-elif-else construct for room\n",
        "if room == \"kit\" :\n",
        "    print(\"looking around in the kitchen.\")\n",
        "elif room == \"bed\":\n",
        "    print(\"looking around in the bedroom.\")\n",
        "else :\n",
        "    print(\"looking around elsewhere.\")\n",
        "\n",
        "# if-elif-else construct for area\n",
        "if area > 15 :\n",
        "    print(\"big place!\")\n",
        "elif area > 10:\n",
        "    print(\"medium size, nice!\")    \n",
        "else:\n",
        "    print(\"pretty small.\")"
      ],
      "metadata": {
        "colab": {
          "base_uri": "https://localhost:8080/"
        },
        "id": "fBMpfulNsVMU",
        "outputId": "09ff741c-139c-4557-d5bf-e04bdd02733a"
      },
      "execution_count": 10,
      "outputs": [
        {
          "output_type": "stream",
          "name": "stdout",
          "text": [
            "looking around in the bedroom.\n",
            "medium size, nice!\n"
          ]
        }
      ]
    },
    {
      "cell_type": "code",
      "source": [],
      "metadata": {
        "id": "_DRhZ-gystM4"
      },
      "execution_count": null,
      "outputs": []
    }
  ]
}