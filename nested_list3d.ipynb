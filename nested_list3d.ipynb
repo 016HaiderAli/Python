{
 "cells": [
  {
   "cell_type": "code",
   "execution_count": 1,
   "metadata": {},
   "outputs": [],
   "source": [
    "school =[\n",
    "        [\n",
    "            [\"Sam\", \"Max\", \"Joe\", \"Anne\"],\n",
    "            [\"Sofie\", \"Lisa\", \"Tim\", \"Sasha\"],\n",
    "            [\"Claire\", \"Sara\", \"Leo\", \"Kim\"],\n",
    "            [\"Zoe\", \"Guy\", \"Anna\", \"Eva\"]\n",
    "        ],\n",
    "        [\n",
    "            [\"Anne\", \"Leo\", \"Sasha\", \"Tim\"],\n",
    "            [\"Claire\", \"Guy\", \"Eva\", \"Zoe\"],\n",
    "            [\"Lisa\", \"Max\", \"Evan\", \"Chloe\"],\n",
    "            [\"Brent\", \"Sam\", \"Sarah\", \"Anne\"]\n",
    "        ],\n",
    "        [\n",
    "            [\"Maria\", \"Julian\", \"Chris\", \"Tom\"],\n",
    "            [\"Zoe\", \"Anna\", \"Kim\", \"Leo\"],\n",
    "            [\"Vera\", \"Pim\", \"Leo\", \"Guy\"],\n",
    "            [\"Anne\", \"Sofie\", \"Max\", \"Joe\"]\n",
    "        ],\n",
    "        [\n",
    "            [\"Sara\", \"Kim\", \"Anne\", \"Eva\"],\n",
    "            [\"Johan\", \"Collin\", \"Sam\", \"Alex\"],\n",
    "            [\"Luke\", \"Sara\", \"Haley\", \"Jennifer\"],\n",
    "            [\"Katy\", \"Mara\", \"Max\", \"Roy\"]\n",
    "        ]\n",
    "]     "
   ]
  },
  {
   "cell_type": "code",
   "execution_count": 2,
   "metadata": {},
   "outputs": [
    {
     "name": "stdout",
     "output_type": "stream",
     "text": [
      "Max\n"
     ]
    }
   ],
   "source": [
    "student = school[1] [2] [1]\n",
    "print(student)"
   ]
  },
  {
   "cell_type": "code",
   "execution_count": 3,
   "metadata": {},
   "outputs": [],
   "source": [
    "#Choose the correct code to get the third element in the second row, Regarding the following list :\n",
    "\n",
    "Colors = [ ['Red', 'Green', 'White', 'Black'], ['Green', 'Blue', 'White', 'Yellow'] ,['White', 'Blue', 'Green', 'Red'] ]"
   ]
  },
  {
   "cell_type": "code",
   "execution_count": 4,
   "metadata": {},
   "outputs": [
    {
     "name": "stdout",
     "output_type": "stream",
     "text": [
      "1\n"
     ]
    }
   ],
   "source": [
    "matrix = [[[k for k in range(3)] for j in range(3)] for i in range(3)]\n",
    "print(matrix[0][0][1]) #rows columns and index value "
   ]
  },
  {
   "cell_type": "code",
   "execution_count": 5,
   "metadata": {},
   "outputs": [
    {
     "name": "stdout",
     "output_type": "stream",
     "text": [
      "[0, 1, 2]\n"
     ]
    }
   ],
   "source": [
    "matrix = [[[0, 1, 2], [0, 1, 2], [0, 1, 2]], [[0, 1, 2], [0, 1, 2], [0, 1, 2]], [[0, 1, 2], [0, 1, 2], [0, 1, 2]]]\n",
    "\n",
    "matrix2 = []\n",
    "\n",
    "for submatrix in matrix:\n",
    "  for val in submatrix:\n",
    "    matrix2.append(val)\n",
    "\n",
    "print(matrix2[2])"
   ]
  },
  {
   "cell_type": "code",
   "execution_count": 6,
   "metadata": {},
   "outputs": [
    {
     "name": "stdout",
     "output_type": "stream",
     "text": [
      "0\n"
     ]
    }
   ],
   "source": [
    "matrix = [[[0, 1, 2], [0, 1, 2], [0, 1, 2]], [[0, 1, 2], [0, 1, 2], [0, 1, 2]], [[0, 1, 2], [0, 1, 2], [0, 1, 2]]]\n",
    "\n",
    "matrix2 = []\n",
    "\n",
    "for submatrix in matrix:\n",
    "  for val in submatrix:\n",
    "    matrix2.append(val)\n",
    "\n",
    "print(matrix2[2][0])"
   ]
  },
  {
   "cell_type": "code",
   "execution_count": 7,
   "metadata": {},
   "outputs": [
    {
     "name": "stdout",
     "output_type": "stream",
     "text": [
      "2\n"
     ]
    }
   ],
   "source": [
    "matrix = [[[0, 1, 2], [0, 1, 2], [0, 1, 2]], [[0, 1, 2], [0, 1, 2], [0, 1, 2]], [[0, 1, 2], [0, 1, 2], [0, 1, 2]]]\n",
    "\n",
    "matrix2 = []\n",
    "\n",
    "for submatrix in matrix:\n",
    "  for val in submatrix:\n",
    "    matrix2.append(val)\n",
    "\n",
    "print(matrix2[2][2])"
   ]
  },
  {
   "cell_type": "code",
   "execution_count": 8,
   "metadata": {},
   "outputs": [
    {
     "name": "stdout",
     "output_type": "stream",
     "text": [
      "1\n"
     ]
    }
   ],
   "source": [
    "matrix = [[[k for k in range(3)] for j in range(3)] for i in range(3)]\n",
    "print(matrix[1][1][1])"
   ]
  },
  {
   "cell_type": "code",
   "execution_count": 9,
   "metadata": {},
   "outputs": [
    {
     "name": "stdout",
     "output_type": "stream",
     "text": [
      "0\n"
     ]
    }
   ],
   "source": [
    "matrix = [[[0, 1, 2], [0, 1, 2], [0, 1, 2]], [[0, 1, 2], [0, 1, 2], [0, 1, 2]], [[0, 1, 2], [0, 1, 2], [0, 1, 2]]]\n",
    "print(matrix[0][0][0])"
   ]
  },
  {
   "cell_type": "code",
   "execution_count": null,
   "metadata": {},
   "outputs": [],
   "source": [
    "#Choose the correct answer to get the “Red” color from the following list:\n",
    "\n",
    "Colors= [ [['Blue','Green','White','Black']], [['Green','Blue','White','Yellow']] , [['White','Blue','Red','Green']] ]"
   ]
  }
 ],
 "metadata": {
  "kernelspec": {
   "display_name": ".venv",
   "language": "python",
   "name": "python3"
  },
  "language_info": {
   "codemirror_mode": {
    "name": "ipython",
    "version": 3
   },
   "file_extension": ".py",
   "mimetype": "text/x-python",
   "name": "python",
   "nbconvert_exporter": "python",
   "pygments_lexer": "ipython3",
   "version": "3.11.1"
  },
  "orig_nbformat": 4
 },
 "nbformat": 4,
 "nbformat_minor": 2
}
