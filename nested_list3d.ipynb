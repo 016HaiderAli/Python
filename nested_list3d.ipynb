{
 "cells": [
  {
   "cell_type": "code",
   "execution_count": 1,
   "metadata": {},
   "outputs": [],
   "source": [
    "school =[\n",
    "        [\n",
    "            [\"Sam\", \"Max\", \"Joe\", \"Anne\"],\n",
    "            [\"Sofie\", \"Lisa\", \"Tim\", \"Sasha\"],\n",
    "            [\"Claire\", \"Sara\", \"Leo\", \"Kim\"],\n",
    "            [\"Zoe\", \"Guy\", \"Anna\", \"Eva\"]\n",
    "        ],\n",
    "        [\n",
    "            [\"Anne\", \"Leo\", \"Sasha\", \"Tim\"],\n",
    "            [\"Claire\", \"Guy\", \"Eva\", \"Zoe\"],\n",
    "            [\"Lisa\", \"Max\", \"Evan\", \"Chloe\"],\n",
    "            [\"Brent\", \"Sam\", \"Sarah\", \"Anne\"]\n",
    "        ],\n",
    "        [\n",
    "            [\"Maria\", \"Julian\", \"Chris\", \"Tom\"],\n",
    "            [\"Zoe\", \"Anna\", \"Kim\", \"Leo\"],\n",
    "            [\"Vera\", \"Pim\", \"Leo\", \"Guy\"],\n",
    "            [\"Anne\", \"Sofie\", \"Max\", \"Joe\"]\n",
    "        ],\n",
    "        [\n",
    "            [\"Sara\", \"Kim\", \"Anne\", \"Eva\"],\n",
    "            [\"Johan\", \"Collin\", \"Sam\", \"Alex\"],\n",
    "            [\"Luke\", \"Sara\", \"Haley\", \"Jennifer\"],\n",
    "            [\"Katy\", \"Mara\", \"Max\", \"Roy\"]\n",
    "        ]\n",
    "]     "
   ]
  },
  {
   "cell_type": "code",
   "execution_count": 2,
   "metadata": {},
   "outputs": [
    {
     "name": "stdout",
     "output_type": "stream",
     "text": [
      "Max\n"
     ]
    }
   ],
   "source": [
    "student = school[1] [2] [1]\n",
    "print(student)"
   ]
  },
  {
   "cell_type": "code",
   "execution_count": null,
   "metadata": {},
   "outputs": [],
   "source": []
  }
 ],
 "metadata": {
  "kernelspec": {
   "display_name": ".venv",
   "language": "python",
   "name": "python3"
  },
  "language_info": {
   "codemirror_mode": {
    "name": "ipython",
    "version": 3
   },
   "file_extension": ".py",
   "mimetype": "text/x-python",
   "name": "python",
   "nbconvert_exporter": "python",
   "pygments_lexer": "ipython3",
   "version": "3.11.1"
  },
  "orig_nbformat": 4
 },
 "nbformat": 4,
 "nbformat_minor": 2
}
