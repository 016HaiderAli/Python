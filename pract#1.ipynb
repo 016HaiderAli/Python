{
 "cells": [
  {
   "cell_type": "code",
   "execution_count": 1,
   "metadata": {},
   "outputs": [
    {
     "name": "stdout",
     "output_type": "stream",
     "text": [
      "show this in the console\n"
     ]
    }
   ],
   "source": [
    "print(\"show this in the console\")"
   ]
  },
  {
   "attachments": {},
   "cell_type": "markdown",
   "metadata": {},
   "source": [
    "Variables: In programming, variables act as containers to store values. These values can be anything from numbers to text or entire functions.\n",
    "and just like labels in case of the bookshelf, variables are identified by variable names. The values stored in the variables can be used further in our programs.\n",
    "how?\n",
    "we can retreive them by referring to the variable names which are used to identify these variables.\n",
    "\n",
    "Data types\n",
    "A variable assumes a data type. In the preceding program, sum gets the type int. However, there are many more data types. Here are a few that you're likely to encounter:\n",
    "Data types\n",
    "A variable assumes a data type. In the preceding program, sum gets the type int. However, there are many more data types. Here are a few that you're likely to encounter:\n",
    "\n",
    "Type\t        Description\t                        Example(s)\n",
    "Numeric type\tNumber, with or without decimals\tint, float, complex, no = 3\n",
    "Text type\t    String of characters\t            str = \"a literal string\"\n",
    "Boolean type\tBoolean\t                            continue = True"
   ]
  },
  {
   "cell_type": "code",
   "execution_count": 3,
   "metadata": {},
   "outputs": [
    {
     "name": "stdout",
     "output_type": "stream",
     "text": [
      "6\n"
     ]
    }
   ],
   "source": [
    "sum = 1 + 2 # 3\n",
    "product = sum * 2\n",
    "print(product)"
   ]
  },
  {
   "cell_type": "code",
   "execution_count": 4,
   "metadata": {},
   "outputs": [],
   "source": [
    "#Here's a piece of code that demonstrates some of the preceding types:\n",
    "\n",
    "planets_in_solar_system = 8 # int, pluto used to be the 9th planet, but is too small\n",
    "distance_to_alpha_centauri = 4.367 # float, lightyears\n",
    "can_liftoff = True\n",
    "shuttle_landed_on_the_moon = \"Apollo 11\" #string "
   ]
  },
  {
   "cell_type": "code",
   "execution_count": 5,
   "metadata": {},
   "outputs": [],
   "source": [
    "#How do you know what type something has? If you see the data being assigned to the variable as shown in the following code, you can spot it:\n",
    "distance_to_alpha_centauri = 4.367 # looks like a float"
   ]
  },
  {
   "cell_type": "code",
   "execution_count": 6,
   "metadata": {},
   "outputs": [
    {
     "data": {
      "text/plain": [
       "float"
      ]
     },
     "execution_count": 6,
     "metadata": {},
     "output_type": "execute_result"
    }
   ],
   "source": [
    "type(distance_to_alpha_centauri)"
   ]
  },
  {
   "cell_type": "code",
   "execution_count": 8,
   "metadata": {},
   "outputs": [
    {
     "data": {
      "text/plain": [
       "2.0"
      ]
     },
     "execution_count": 8,
     "metadata": {},
     "output_type": "execute_result"
    }
   ],
   "source": [
    "#Operators \n",
    "left_side = 10\n",
    "right_side = 5\n",
    "left_side / right_side"
   ]
  },
  {
   "attachments": {},
   "cell_type": "markdown",
   "metadata": {},
   "source": [
    "Python uses two types of operators: arithmetic and assignment.\n",
    "\n",
    "Arithmetic operators\n",
    "With arithmetic operators, you perform calculations like addition, subtraction, division, and multiplication. Here's a subset of arithmetic operators you can use:\n",
    "\n",
    "Type\tDescription\t                                                                            Example\n",
    "+\t    Addition operator that adds two values together\t                                        1 + 1\n",
    "-\t    Subtraction operator that removes the value of the right side from the left side\t    1 - 2\n",
    "/\t    Division operator that divides the left side as many times as the right side specifies\t10 / 2\n",
    "*\t    Multiplication operator                                                                 1 * 2    \n",
    "\n",
    "Assignment operators\n",
    "You can use assignment operators to assign values to a variable throughout the lifecycle of the variable. Here are some assignment operators you're likely to encounter as you're learning to build programs:\n",
    "\n",
    "Operator\tExample     Explanation\n",
    "=\t        x = 2       x now contains 2.\n",
    "+=\t        x += 2      x incremented by 2. If it contained 2 before, it now has a value of 4.\n",
    "-=\t        x -= 2      x decremented by 2. If it contained 2 before, it now has a value of 0.\n",
    "/=\t        x /= 2      x divided by 2. If it contained 2 before, it now has a value of 1.\n",
    "*=\t        x *= 2      x multiplied by 2. If it contained 2 before, it now has a value of 4."
   ]
  },
  {
   "cell_type": "code",
   "execution_count": 10,
   "metadata": {},
   "outputs": [
    {
     "name": "stdout",
     "output_type": "stream",
     "text": [
      "30\n"
     ]
    }
   ],
   "source": [
    "#Arithmetic operator\n",
    "#ADDITION\n",
    "a=10\n",
    "b=20\n",
    "sum = a+b\n",
    "print(sum)"
   ]
  },
  {
   "cell_type": "code",
   "execution_count": 18,
   "metadata": {},
   "outputs": [
    {
     "name": "stdout",
     "output_type": "stream",
     "text": [
      "-10\n"
     ]
    }
   ],
   "source": [
    "#Difference/subtraction\n",
    "a=10\n",
    "b=20\n",
    "dif = a-b\n",
    "print(dif)"
   ]
  },
  {
   "cell_type": "code",
   "execution_count": 17,
   "metadata": {},
   "outputs": [
    {
     "name": "stdout",
     "output_type": "stream",
     "text": [
      "200\n"
     ]
    }
   ],
   "source": [
    "#Multiplication/product *\n",
    "a=10\n",
    "b=20\n",
    "prod = a*b\n",
    "print(prod)"
   ]
  },
  {
   "cell_type": "code",
   "execution_count": 16,
   "metadata": {},
   "outputs": [
    {
     "name": "stdout",
     "output_type": "stream",
     "text": [
      "2.0\n"
     ]
    }
   ],
   "source": [
    "#Division /\n",
    "a=10\n",
    "b=20\n",
    "div = b/a\n",
    "print(div)"
   ]
  },
  {
   "cell_type": "code",
   "execution_count": 15,
   "metadata": {},
   "outputs": [
    {
     "name": "stdout",
     "output_type": "stream",
     "text": [
      "0\n"
     ]
    }
   ],
   "source": [
    "#Modulus/Remainder %\n",
    "a=10\n",
    "b=20\n",
    "mod = b%a\n",
    "print(mod)"
   ]
  },
  {
   "cell_type": "code",
   "execution_count": 25,
   "metadata": {},
   "outputs": [],
   "source": [
    "#Using Assignment operators\n",
    "\n",
    "x = 6"
   ]
  },
  {
   "cell_type": "code",
   "execution_count": 26,
   "metadata": {},
   "outputs": [
    {
     "data": {
      "text/plain": [
       "6"
      ]
     },
     "execution_count": 26,
     "metadata": {},
     "output_type": "execute_result"
    }
   ],
   "source": [
    "x"
   ]
  },
  {
   "cell_type": "code",
   "execution_count": 27,
   "metadata": {},
   "outputs": [],
   "source": [
    "x += 2"
   ]
  },
  {
   "cell_type": "code",
   "execution_count": 28,
   "metadata": {},
   "outputs": [
    {
     "data": {
      "text/plain": [
       "8"
      ]
     },
     "execution_count": 28,
     "metadata": {},
     "output_type": "execute_result"
    }
   ],
   "source": [
    "x"
   ]
  },
  {
   "cell_type": "code",
   "execution_count": 29,
   "metadata": {},
   "outputs": [
    {
     "data": {
      "text/plain": [
       "6"
      ]
     },
     "execution_count": 29,
     "metadata": {},
     "output_type": "execute_result"
    }
   ],
   "source": [
    "x -= 2\n",
    "x"
   ]
  },
  {
   "cell_type": "code",
   "execution_count": 30,
   "metadata": {},
   "outputs": [],
   "source": [
    "x =+ 2"
   ]
  },
  {
   "cell_type": "code",
   "execution_count": 31,
   "metadata": {},
   "outputs": [
    {
     "data": {
      "text/plain": [
       "2"
      ]
     },
     "execution_count": 31,
     "metadata": {},
     "output_type": "execute_result"
    }
   ],
   "source": [
    "x #it just add 2 as the new value to x"
   ]
  },
  {
   "cell_type": "code",
   "execution_count": 32,
   "metadata": {},
   "outputs": [
    {
     "data": {
      "text/plain": [
       "4"
      ]
     },
     "execution_count": 32,
     "metadata": {},
     "output_type": "execute_result"
    }
   ],
   "source": [
    "x *= 2\n",
    "x"
   ]
  },
  {
   "cell_type": "code",
   "execution_count": 34,
   "metadata": {},
   "outputs": [
    {
     "data": {
      "text/plain": [
       "2.0"
      ]
     },
     "execution_count": 34,
     "metadata": {},
     "output_type": "execute_result"
    }
   ],
   "source": [
    "x /= 2\n",
    "x"
   ]
  },
  {
   "cell_type": "code",
   "execution_count": null,
   "metadata": {},
   "outputs": [],
   "source": []
  }
 ],
 "metadata": {
  "kernelspec": {
   "display_name": ".venv",
   "language": "python",
   "name": "python3"
  },
  "language_info": {
   "codemirror_mode": {
    "name": "ipython",
    "version": 3
   },
   "file_extension": ".py",
   "mimetype": "text/x-python",
   "name": "python",
   "nbconvert_exporter": "python",
   "pygments_lexer": "ipython3",
   "version": "3.11.1"
  },
  "orig_nbformat": 4
 },
 "nbformat": 4,
 "nbformat_minor": 2
}
