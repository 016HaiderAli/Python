{
  "nbformat": 4,
  "nbformat_minor": 0,
  "metadata": {
    "colab": {
      "provenance": [],
      "authorship_tag": "ABX9TyP6fGrNj2hJthtWycSOqtDo",
      "include_colab_link": true
    },
    "kernelspec": {
      "name": "python3",
      "display_name": "Python 3"
    },
    "language_info": {
      "name": "python"
    }
  },
  "cells": [
    {
      "cell_type": "markdown",
      "metadata": {
        "id": "view-in-github",
        "colab_type": "text"
      },
      "source": [
        "<a href=\"https://colab.research.google.com/github/016HaiderAli/Python/blob/master/Assignment_2.ipynb\" target=\"_parent\"><img src=\"https://colab.research.google.com/assets/colab-badge.svg\" alt=\"Open In Colab\"/></a>"
      ]
    },
    {
      "cell_type": "markdown",
      "source": [
        "**Write a Python function that takes in a list of numbers and returns the sum of the squares of all the numbers in the list.**"
      ],
      "metadata": {
        "id": "SJS6JZw6KtZm"
      }
    },
    {
      "cell_type": "code",
      "source": [
        "def sum_of_squares(xs):\n",
        "    return sum(x * x for x in xs)"
      ],
      "metadata": {
        "id": "6Ely2WfgK5bA"
      },
      "execution_count": 17,
      "outputs": []
    },
    {
      "cell_type": "code",
      "execution_count": 18,
      "metadata": {
        "colab": {
          "base_uri": "https://localhost:8080/"
        },
        "id": "QC0zn4R8Klo_",
        "outputId": "75678c67-d59e-4709-a893-03b37c361498"
      },
      "outputs": [
        {
          "output_type": "stream",
          "name": "stdout",
          "text": [
            "Enter the list size 3\n",
            "\n",
            "\n",
            "Enter number at index 0\n",
            "4\n",
            "Enter number at index 1\n",
            "2\n",
            "Enter number at index 2\n",
            "3\n",
            "User list is  [4, 2, 3]\n",
            "Sum of the squares of all numbers in list =  29\n"
          ]
        }
      ],
      "source": [
        "number_list = []\n",
        "n = int(input(\"Enter the list size \"))\n",
        "\n",
        "print(\"\\n\")\n",
        "for i in range(0, n):\n",
        "    print(\"Enter number at index\", i, )\n",
        "    item = int(input())\n",
        "    number_list.append(item)\n",
        "print(\"User list is \", number_list)\n",
        "\n",
        "print(\"Sum of the squares of all numbers in list = \", sum_of_squares(number_list))"
      ]
    },
    {
      "cell_type": "code",
      "source": [],
      "metadata": {
        "id": "24b_O6DTSfwd"
      },
      "execution_count": null,
      "outputs": []
    }
  ]
}