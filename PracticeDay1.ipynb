{
  "nbformat": 4,
  "nbformat_minor": 0,
  "metadata": {
    "colab": {
      "provenance": [],
      "authorship_tag": "ABX9TyPVZgQ4tCA9tvDWj8yzSi2c",
      "include_colab_link": true
    },
    "kernelspec": {
      "name": "python3",
      "display_name": "Python 3"
    },
    "language_info": {
      "name": "python"
    }
  },
  "cells": [
    {
      "cell_type": "markdown",
      "metadata": {
        "id": "view-in-github",
        "colab_type": "text"
      },
      "source": [
        "<a href=\"https://colab.research.google.com/github/016HaiderAli/Python/blob/main/PracticeDay1.ipynb\" target=\"_parent\"><img src=\"https://colab.research.google.com/assets/colab-badge.svg\" alt=\"Open In Colab\"/></a>"
      ]
    },
    {
      "cell_type": "markdown",
      "source": [
        "Types of data"
      ],
      "metadata": {
        "id": "gzkhcdeBB1iF"
      }
    },
    {
      "cell_type": "code",
      "execution_count": 1,
      "metadata": {
        "colab": {
          "base_uri": "https://localhost:8080/"
        },
        "id": "FkQKTwTIBtOG",
        "outputId": "cec4b6e1-57a6-4172-d2d4-2b992aa92d0e"
      },
      "outputs": [
        {
          "output_type": "execute_result",
          "data": {
            "text/plain": [
              "bool"
            ]
          },
          "metadata": {},
          "execution_count": 1
        }
      ],
      "source": [
        "type(False)"
      ]
    },
    {
      "cell_type": "code",
      "source": [
        "type(True)"
      ],
      "metadata": {
        "colab": {
          "base_uri": "https://localhost:8080/"
        },
        "id": "uD3ILp3lB5VF",
        "outputId": "9b6dc430-81ab-41b1-ed97-f084ec5065f0"
      },
      "execution_count": 2,
      "outputs": [
        {
          "output_type": "execute_result",
          "data": {
            "text/plain": [
              "bool"
            ]
          },
          "metadata": {},
          "execution_count": 2
        }
      ]
    },
    {
      "cell_type": "code",
      "source": [
        "type(3)"
      ],
      "metadata": {
        "colab": {
          "base_uri": "https://localhost:8080/"
        },
        "id": "RwGXu-0sCER5",
        "outputId": "8e2d5706-bf5b-44b2-aa4e-8a9bfde2711f"
      },
      "execution_count": 3,
      "outputs": [
        {
          "output_type": "execute_result",
          "data": {
            "text/plain": [
              "int"
            ]
          },
          "metadata": {},
          "execution_count": 3
        }
      ]
    },
    {
      "cell_type": "code",
      "source": [
        "type('c')"
      ],
      "metadata": {
        "colab": {
          "base_uri": "https://localhost:8080/"
        },
        "id": "Iv0AC-LjCGGP",
        "outputId": "c2d7268e-1b3e-47d6-c121-ab9872f53c5a"
      },
      "execution_count": 4,
      "outputs": [
        {
          "output_type": "execute_result",
          "data": {
            "text/plain": [
              "str"
            ]
          },
          "metadata": {},
          "execution_count": 4
        }
      ]
    },
    {
      "cell_type": "code",
      "source": [
        "type(2.5)"
      ],
      "metadata": {
        "colab": {
          "base_uri": "https://localhost:8080/"
        },
        "id": "o8oufAJICJdT",
        "outputId": "b652656e-f4c5-4daf-fb53-203a8cca190b"
      },
      "execution_count": 6,
      "outputs": [
        {
          "output_type": "execute_result",
          "data": {
            "text/plain": [
              "float"
            ]
          },
          "metadata": {},
          "execution_count": 6
        }
      ]
    },
    {
      "cell_type": "code",
      "source": [
        "type(2e10)"
      ],
      "metadata": {
        "colab": {
          "base_uri": "https://localhost:8080/"
        },
        "id": "4OAaj__hCK87",
        "outputId": "2a88b91e-7458-413e-9961-7f4da2d4a11b"
      },
      "execution_count": 7,
      "outputs": [
        {
          "output_type": "execute_result",
          "data": {
            "text/plain": [
              "float"
            ]
          },
          "metadata": {},
          "execution_count": 7
        }
      ]
    },
    {
      "cell_type": "markdown",
      "source": [
        "Storing variables using hangman"
      ],
      "metadata": {
        "id": "KGK5ZJ8dCnnT"
      }
    },
    {
      "cell_type": "code",
      "source": [
        "#beginning of the game \n",
        "guesses = 3\n",
        "print(guesses)"
      ],
      "metadata": {
        "colab": {
          "base_uri": "https://localhost:8080/"
        },
        "id": "FlBiFQAYCUej",
        "outputId": "d1aee0a0-2a4a-4e27-da43-7cf8df710024"
      },
      "execution_count": 8,
      "outputs": [
        {
          "output_type": "stream",
          "name": "stdout",
          "text": [
            "3\n"
          ]
        }
      ]
    },
    {
      "cell_type": "code",
      "source": [
        "#player 2 makes their first guess \n",
        "\n",
        "guesses -= 1\n",
        "print(guesses)"
      ],
      "metadata": {
        "colab": {
          "base_uri": "https://localhost:8080/"
        },
        "id": "FeNYHbzJC41b",
        "outputId": "49ecc864-cfd6-49e1-a8df-aac6957f0eb5"
      },
      "execution_count": 9,
      "outputs": [
        {
          "output_type": "stream",
          "name": "stdout",
          "text": [
            "2\n"
          ]
        }
      ]
    },
    {
      "cell_type": "code",
      "source": [
        "#player 2 makes their second guess\n",
        "\n",
        "guesses -= 1\n",
        "print(guesses)"
      ],
      "metadata": {
        "colab": {
          "base_uri": "https://localhost:8080/"
        },
        "id": "lVIY8HkKDC1A",
        "outputId": "413c7b57-54d9-47b1-f0e5-6fbb26b0d0f4"
      },
      "execution_count": 10,
      "outputs": [
        {
          "output_type": "stream",
          "name": "stdout",
          "text": [
            "1\n"
          ]
        }
      ]
    },
    {
      "cell_type": "code",
      "source": [
        "#Define own functions\n",
        "#def funcName(parameters):\n",
        "\n",
        "def addition(x):\n",
        "  print(5 + x)"
      ],
      "metadata": {
        "id": "VZwz0W2sDLVl"
      },
      "execution_count": 11,
      "outputs": []
    },
    {
      "cell_type": "code",
      "source": [
        "x=3\n",
        "addition(x)"
      ],
      "metadata": {
        "colab": {
          "base_uri": "https://localhost:8080/"
        },
        "id": "pnRY7czKDmYr",
        "outputId": "1cedfda3-107a-4cd2-f0f4-9509e080c15b"
      },
      "execution_count": 12,
      "outputs": [
        {
          "output_type": "stream",
          "name": "stdout",
          "text": [
            "8\n"
          ]
        }
      ]
    },
    {
      "cell_type": "code",
      "source": [
        "x=3.5\n",
        "addition(x)"
      ],
      "metadata": {
        "colab": {
          "base_uri": "https://localhost:8080/"
        },
        "id": "OHp48cBQDtdL",
        "outputId": "8cb89f8c-a45a-4417-c273-68fb654e830e"
      },
      "execution_count": 13,
      "outputs": [
        {
          "output_type": "stream",
          "name": "stdout",
          "text": [
            "8.5\n"
          ]
        }
      ]
    },
    {
      "cell_type": "markdown",
      "source": [
        "Types of function"
      ],
      "metadata": {
        "id": "cdAyTVNiET6Z"
      }
    },
    {
      "cell_type": "code",
      "source": [
        "#Function that takes no input and doesnt return an output\n",
        "\n",
        "def greeting():\n",
        "  print(\"hey there\")"
      ],
      "metadata": {
        "id": "wreGkNQ7Dyup"
      },
      "execution_count": 15,
      "outputs": []
    },
    {
      "cell_type": "code",
      "source": [
        "greeting()"
      ],
      "metadata": {
        "colab": {
          "base_uri": "https://localhost:8080/"
        },
        "id": "BjpCAc7fEkgS",
        "outputId": "0331bcbc-c004-460b-8fcf-3b30c9e651a2"
      },
      "execution_count": 16,
      "outputs": [
        {
          "output_type": "stream",
          "name": "stdout",
          "text": [
            "hey there\n"
          ]
        }
      ]
    },
    {
      "cell_type": "code",
      "source": [
        "#Type 2 - that recieves an input and doesnt return the output\n",
        "#takes name and displays greeting\n",
        "\n",
        "def greet(name):\n",
        "  print(\"hey \" + name + \"!\")"
      ],
      "metadata": {
        "id": "_dT92eDOEp3F"
      },
      "execution_count": 22,
      "outputs": []
    },
    {
      "cell_type": "code",
      "source": [
        "greet(\"joshua\")"
      ],
      "metadata": {
        "colab": {
          "base_uri": "https://localhost:8080/"
        },
        "id": "XnZYDz31FMOC",
        "outputId": "65d4bf22-9dcc-400c-d0fb-89ffce56081f"
      },
      "execution_count": 21,
      "outputs": [
        {
          "output_type": "stream",
          "name": "stdout",
          "text": [
            "hey joshua!\n"
          ]
        }
      ]
    },
    {
      "cell_type": "code",
      "source": [
        "#Type 3 - takes a number as input and returns square as an output\n",
        "\n",
        "def square(x):\n",
        "  return x * x"
      ],
      "metadata": {
        "id": "6zrUOJSeFO8n"
      },
      "execution_count": 23,
      "outputs": []
    },
    {
      "cell_type": "code",
      "source": [
        "square(5)"
      ],
      "metadata": {
        "colab": {
          "base_uri": "https://localhost:8080/"
        },
        "id": "wb2FK4crFxq8",
        "outputId": "6da4fbe8-fbb7-4156-99a7-e2b470b76533"
      },
      "execution_count": 24,
      "outputs": [
        {
          "output_type": "execute_result",
          "data": {
            "text/plain": [
              "25"
            ]
          },
          "metadata": {},
          "execution_count": 24
        }
      ]
    },
    {
      "cell_type": "code",
      "source": [
        "result = square(5)"
      ],
      "metadata": {
        "id": "RbLPCFetF0e0"
      },
      "execution_count": 26,
      "outputs": []
    },
    {
      "cell_type": "code",
      "source": [
        "print(result)"
      ],
      "metadata": {
        "colab": {
          "base_uri": "https://localhost:8080/"
        },
        "id": "qV1t64wyF4Qm",
        "outputId": "7d59045b-3801-4124-ff44-8a0dc5224993"
      },
      "execution_count": 27,
      "outputs": [
        {
          "output_type": "stream",
          "name": "stdout",
          "text": [
            "25\n"
          ]
        }
      ]
    },
    {
      "cell_type": "code",
      "source": [
        "anotherOne = square(result)"
      ],
      "metadata": {
        "id": "q9f9VvIzF9vp"
      },
      "execution_count": 28,
      "outputs": []
    },
    {
      "cell_type": "code",
      "source": [
        "print(anotherOne)"
      ],
      "metadata": {
        "colab": {
          "base_uri": "https://localhost:8080/"
        },
        "id": "9y7b7T5WGY4Y",
        "outputId": "78d6c4d8-e968-4985-cb9f-91a683592166"
      },
      "execution_count": 29,
      "outputs": [
        {
          "output_type": "stream",
          "name": "stdout",
          "text": [
            "625\n"
          ]
        }
      ]
    },
    {
      "cell_type": "code",
      "source": [
        "#A function can take more than one input, For example\n",
        "\n",
        "def sumOfSquare(x, y):\n",
        "  square1 = x * x\n",
        "  square2 = y * y\n",
        "  return square1 + square2"
      ],
      "metadata": {
        "id": "THmUxpPmGasA"
      },
      "execution_count": 30,
      "outputs": []
    },
    {
      "cell_type": "code",
      "source": [
        "result = sumOfSquare(2, 3)"
      ],
      "metadata": {
        "id": "a3UO3XquHSRH"
      },
      "execution_count": 31,
      "outputs": []
    },
    {
      "cell_type": "code",
      "source": [
        "print(result)"
      ],
      "metadata": {
        "colab": {
          "base_uri": "https://localhost:8080/"
        },
        "id": "mxDqLo2xHWs2",
        "outputId": "6ce43d15-36e5-4740-91b3-ada1383cd2b0"
      },
      "execution_count": 32,
      "outputs": [
        {
          "output_type": "stream",
          "name": "stdout",
          "text": [
            "13\n"
          ]
        }
      ]
    },
    {
      "cell_type": "code",
      "source": [
        "#Function - That asks user if its raining today and returns the response \n",
        "# example of function where returns output but doesnt recieve input\n",
        "\n",
        "def isItRaining():\n",
        "  raining = input(\"is it raining today?\")\n",
        "  return raining"
      ],
      "metadata": {
        "id": "aRinyxsxHYzc"
      },
      "execution_count": 33,
      "outputs": []
    },
    {
      "cell_type": "code",
      "source": [
        "#Test function\n",
        "monday_rain = isItRaining()"
      ],
      "metadata": {
        "colab": {
          "base_uri": "https://localhost:8080/"
        },
        "id": "ASznOOfoIGLV",
        "outputId": "d9b2a345-b36d-4442-8fb6-69ea0008832b"
      },
      "execution_count": 34,
      "outputs": [
        {
          "name": "stdout",
          "output_type": "stream",
          "text": [
            "is it raining today?no\n"
          ]
        }
      ]
    },
    {
      "cell_type": "code",
      "source": [
        "print(monday_rain)"
      ],
      "metadata": {
        "colab": {
          "base_uri": "https://localhost:8080/"
        },
        "id": "Cr2TMZ9UINFR",
        "outputId": "2ebaa87e-f575-4973-9226-975ec1594697"
      },
      "execution_count": 35,
      "outputs": [
        {
          "output_type": "stream",
          "name": "stdout",
          "text": [
            "no\n"
          ]
        }
      ]
    },
    {
      "cell_type": "code",
      "source": [
        "tuesday_rain = isItRaining()"
      ],
      "metadata": {
        "colab": {
          "base_uri": "https://localhost:8080/"
        },
        "id": "w92ARolHIRQa",
        "outputId": "2fa10754-9806-489f-d070-3d5b9174ec70"
      },
      "execution_count": 36,
      "outputs": [
        {
          "name": "stdout",
          "output_type": "stream",
          "text": [
            "is it raining today?yes\n"
          ]
        }
      ]
    },
    {
      "cell_type": "code",
      "source": [
        "print(tuesday_rain)"
      ],
      "metadata": {
        "colab": {
          "base_uri": "https://localhost:8080/"
        },
        "id": "pPBkqyH1IX0P",
        "outputId": "5512c919-4cc5-4fe7-bdd7-10de6f7aea40"
      },
      "execution_count": 37,
      "outputs": [
        {
          "output_type": "stream",
          "name": "stdout",
          "text": [
            "yes\n"
          ]
        }
      ]
    },
    {
      "cell_type": "code",
      "source": [],
      "metadata": {
        "id": "N7TTPKL7IiDd"
      },
      "execution_count": 37,
      "outputs": []
    }
  ]
}