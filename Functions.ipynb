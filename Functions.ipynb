{
  "nbformat": 4,
  "nbformat_minor": 0,
  "metadata": {
    "colab": {
      "provenance": [],
      "authorship_tag": "ABX9TyO1fyvUoDNHLl+s4HH3O2hG",
      "include_colab_link": true
    },
    "kernelspec": {
      "name": "python3",
      "display_name": "Python 3"
    },
    "language_info": {
      "name": "python"
    }
  },
  "cells": [
    {
      "cell_type": "markdown",
      "metadata": {
        "id": "view-in-github",
        "colab_type": "text"
      },
      "source": [
        "<a href=\"https://colab.research.google.com/github/016HaiderAli/Python/blob/master/Functions.ipynb\" target=\"_parent\"><img src=\"https://colab.research.google.com/assets/colab-badge.svg\" alt=\"Open In Colab\"/></a>"
      ]
    },
    {
      "cell_type": "code",
      "execution_count": 2,
      "metadata": {
        "colab": {
          "base_uri": "https://localhost:8080/"
        },
        "id": "vnSQ461n45je",
        "outputId": "4108d3bd-d251-45b8-ab92-0a5ab9f07bff"
      },
      "outputs": [
        {
          "output_type": "execute_result",
          "data": {
            "text/plain": [
              "[1.71, 1.62, 1.6, 1.55, 1.91]"
            ]
          },
          "metadata": {},
          "execution_count": 2
        }
      ],
      "source": [
        "#Piece of Resuable code\n",
        "#Used to perform a particular task\n",
        "#Example Height of family\n",
        "fam = [1.71, 1.62, 1.60, 1.55, 1.91]\n",
        "fam"
      ]
    },
    {
      "cell_type": "code",
      "source": [
        "type(fam)"
      ],
      "metadata": {
        "colab": {
          "base_uri": "https://localhost:8080/"
        },
        "id": "CEMmm-mu6ACX",
        "outputId": "59944457-6275-47d3-f853-ff9b1b8dbb86"
      },
      "execution_count": 3,
      "outputs": [
        {
          "output_type": "execute_result",
          "data": {
            "text/plain": [
              "list"
            ]
          },
          "metadata": {},
          "execution_count": 3
        }
      ]
    },
    {
      "cell_type": "code",
      "source": [
        "max(fam)"
      ],
      "metadata": {
        "colab": {
          "base_uri": "https://localhost:8080/"
        },
        "id": "6HTdHuzf1zFW",
        "outputId": "46503e05-285e-452b-b4b2-2d6cbc751287"
      },
      "execution_count": 4,
      "outputs": [
        {
          "output_type": "execute_result",
          "data": {
            "text/plain": [
              "1.91"
            ]
          },
          "metadata": {},
          "execution_count": 4
        }
      ]
    },
    {
      "cell_type": "code",
      "source": [
        "tallest =max(fam)\n",
        "tallest"
      ],
      "metadata": {
        "id": "n0_9G5xa6F-u",
        "colab": {
          "base_uri": "https://localhost:8080/"
        },
        "outputId": "f628c450-8865-44fb-ecc7-5acf29c6acc4"
      },
      "execution_count": 5,
      "outputs": [
        {
          "output_type": "execute_result",
          "data": {
            "text/plain": [
              "1.91"
            ]
          },
          "metadata": {},
          "execution_count": 5
        }
      ]
    },
    {
      "cell_type": "code",
      "source": [
        "round(1.55,1) #this means to round the number 1.55 upto one decimal place. lets see"
      ],
      "metadata": {
        "colab": {
          "base_uri": "https://localhost:8080/"
        },
        "id": "LX5Gpt1C2fFc",
        "outputId": "58afeff3-80d5-473b-afb1-ff5b3ebb9202"
      },
      "execution_count": 6,
      "outputs": [
        {
          "output_type": "execute_result",
          "data": {
            "text/plain": [
              "1.6"
            ]
          },
          "metadata": {},
          "execution_count": 6
        }
      ]
    },
    {
      "cell_type": "code",
      "source": [
        "#Now, lets test round func with only one input\n",
        "round(1.55)"
      ],
      "metadata": {
        "colab": {
          "base_uri": "https://localhost:8080/"
        },
        "id": "OG28oifY2oVB",
        "outputId": "dc026730-7fb1-4612-ff27-770fc9be367a"
      },
      "execution_count": 7,
      "outputs": [
        {
          "output_type": "execute_result",
          "data": {
            "text/plain": [
              "2"
            ]
          },
          "metadata": {},
          "execution_count": 7
        }
      ]
    },
    {
      "cell_type": "code",
      "source": [
        "help(round) #Command help() gives you documented description about a particular function"
      ],
      "metadata": {
        "colab": {
          "base_uri": "https://localhost:8080/"
        },
        "id": "hwneWUf72wQO",
        "outputId": "b9739391-5b70-4c85-ef2f-f062d894bd66"
      },
      "execution_count": 9,
      "outputs": [
        {
          "output_type": "stream",
          "name": "stdout",
          "text": [
            "Help on built-in function round in module builtins:\n",
            "\n",
            "round(number, ndigits=None)\n",
            "    Round a number to a given precision in decimal digits.\n",
            "    \n",
            "    The return value is an integer if ndigits is omitted or None.  Otherwise\n",
            "    the return value has the same type as the number.  ndigits may be negative.\n",
            "\n"
          ]
        }
      ]
    },
    {
      "cell_type": "code",
      "source": [
        "# Create variables var1 and var2\n",
        "var1 = [1, 2, 3, 4]\n",
        "var2 = True\n",
        "\n",
        "# Print out type of var1\n",
        "print(type(var1))\n",
        "\n",
        "# Print out length of var1\n",
        "print(len(var1))\n",
        "\n",
        "# Convert var2 to an integer: out2\n",
        "out2 = int(var2)"
      ],
      "metadata": {
        "colab": {
          "base_uri": "https://localhost:8080/"
        },
        "id": "6VmzPibM26Rp",
        "outputId": "b26e82d6-a37a-426e-8a5c-f1433111ba8d"
      },
      "execution_count": 10,
      "outputs": [
        {
          "output_type": "stream",
          "name": "stdout",
          "text": [
            "<class 'list'>\n",
            "4\n"
          ]
        }
      ]
    },
    {
      "cell_type": "code",
      "source": [
        "out2"
      ],
      "metadata": {
        "colab": {
          "base_uri": "https://localhost:8080/"
        },
        "id": "uQiaWHlG4ScH",
        "outputId": "2b18eb96-62c3-472d-875c-9e7e28054db0"
      },
      "execution_count": 11,
      "outputs": [
        {
          "output_type": "execute_result",
          "data": {
            "text/plain": [
              "1"
            ]
          },
          "metadata": {},
          "execution_count": 11
        }
      ]
    },
    {
      "cell_type": "code",
      "source": [
        "#MULTIPLE ARGUMENTS - USING SORTED FUNC\n",
        "# Create lists first and second\n",
        "first = [11.25, 18.0, 20.0]\n",
        "second = [10.75, 9.50]\n",
        "\n",
        "# Paste together first and second: full\n",
        "full = first + second\n",
        "\n",
        "# Sort full in descending order: full_sorted\n",
        "full_sorted = sorted(full, key=None, reverse=True)\n",
        "\n",
        "# Print out full_sorted\n",
        "full_sorted"
      ],
      "metadata": {
        "colab": {
          "base_uri": "https://localhost:8080/"
        },
        "id": "HCaOnO5B4aLh",
        "outputId": "1d6f7d3e-221e-466d-9fcf-e49a42d36f6c"
      },
      "execution_count": 13,
      "outputs": [
        {
          "output_type": "execute_result",
          "data": {
            "text/plain": [
              "[20.0, 18.0, 11.25, 10.75, 9.5]"
            ]
          },
          "metadata": {},
          "execution_count": 13
        }
      ]
    },
    {
      "cell_type": "code",
      "source": [
        "#Values assigned to variables are called Object.\n",
        "#Methods: Functions that belongs to object\n",
        "fam.index(1.91)   #tells that value 1.91 is located at the index"
      ],
      "metadata": {
        "colab": {
          "base_uri": "https://localhost:8080/"
        },
        "id": "zaE2h6ad7kVf",
        "outputId": "0d25c90c-c3f0-4ecf-ed1d-b68c74987570"
      },
      "execution_count": 15,
      "outputs": [
        {
          "output_type": "execute_result",
          "data": {
            "text/plain": [
              "4"
            ]
          },
          "metadata": {},
          "execution_count": 15
        }
      ]
    },
    {
      "cell_type": "code",
      "source": [
        "fam.count(1.91) #tells that value 1.91 is located only 1 time in the list fam"
      ],
      "metadata": {
        "colab": {
          "base_uri": "https://localhost:8080/"
        },
        "id": "naleg6Ze-sm_",
        "outputId": "226c9517-b7fe-4f22-a4b6-b2302cb47735"
      },
      "execution_count": 19,
      "outputs": [
        {
          "output_type": "execute_result",
          "data": {
            "text/plain": [
              "1"
            ]
          },
          "metadata": {},
          "execution_count": 19
        }
      ]
    },
    {
      "cell_type": "code",
      "source": [
        "name = \"haider\""
      ],
      "metadata": {
        "id": "phCz73ub-094"
      },
      "execution_count": 20,
      "outputs": []
    },
    {
      "cell_type": "code",
      "source": [
        "name.capitalize()"
      ],
      "metadata": {
        "colab": {
          "base_uri": "https://localhost:8080/",
          "height": 36
        },
        "id": "0gV8A2ZgDtwM",
        "outputId": "d4cdd556-25e4-4c7a-d386-97ecaee656ac"
      },
      "execution_count": 21,
      "outputs": [
        {
          "output_type": "execute_result",
          "data": {
            "text/plain": [
              "'Haider'"
            ],
            "application/vnd.google.colaboratory.intrinsic+json": {
              "type": "string"
            }
          },
          "metadata": {},
          "execution_count": 21
        }
      ]
    },
    {
      "cell_type": "code",
      "source": [
        "name.replace('d', 'th')"
      ],
      "metadata": {
        "colab": {
          "base_uri": "https://localhost:8080/",
          "height": 36
        },
        "id": "K-8pLv_xD7Pi",
        "outputId": "11304562-edf2-4818-fb4b-9011f09033e3"
      },
      "execution_count": 22,
      "outputs": [
        {
          "output_type": "execute_result",
          "data": {
            "text/plain": [
              "'haither'"
            ],
            "application/vnd.google.colaboratory.intrinsic+json": {
              "type": "string"
            }
          },
          "metadata": {},
          "execution_count": 22
        }
      ]
    },
    {
      "cell_type": "code",
      "source": [
        "# string to experiment with: place\n",
        "place = \"poolhouse\"\n",
        "\n",
        "# Use upper() on place: place_up\n",
        "place_up = place.upper()\n",
        "\n",
        "# Print out place and place_up\n",
        "print(place)\n",
        "print(place_up)\n",
        "\n",
        "# Print out the number of o's in place\n",
        "print(place.count(\"o\"))"
      ],
      "metadata": {
        "colab": {
          "base_uri": "https://localhost:8080/"
        },
        "id": "mlcgRa62EGtx",
        "outputId": "8d909e75-18ea-4734-ba35-da9d2c2cccef"
      },
      "execution_count": 23,
      "outputs": [
        {
          "output_type": "stream",
          "name": "stdout",
          "text": [
            "poolhouse\n",
            "POOLHOUSE\n",
            "3\n"
          ]
        }
      ]
    },
    {
      "cell_type": "code",
      "source": [
        "#LIST METHODS\n",
        "# Create list areas\n",
        "areas = [11.25, 18.0, 20.0, 10.75, 9.50]\n",
        "\n",
        "# Print out the index of the element 20.0\n",
        "print(areas.index(20.0))\n",
        "\n",
        "# Print out how often 9.50 appears in areas\n",
        "print(areas.count(9.50))\n"
      ],
      "metadata": {
        "colab": {
          "base_uri": "https://localhost:8080/"
        },
        "id": "EPFda98qUoZ7",
        "outputId": "6f4a7fb3-d96f-4f25-83a3-30b78bf7a526"
      },
      "execution_count": 24,
      "outputs": [
        {
          "output_type": "stream",
          "name": "stdout",
          "text": [
            "2\n",
            "1\n"
          ]
        }
      ]
    },
    {
      "cell_type": "markdown",
      "source": [
        "List Methods (2)\n",
        "Most list methods will change the list they're called on. Examples are:\n",
        "\n",
        "append(), that adds an element to the list it is called on, <br>\n",
        "remove(), that removes the first element of a list that matches the input, <br> and <br>\n",
        "reverse(), that reverses the order of the elements in the list it is called on.\n",
        "You'll be working on the list with the area of different parts of the house: areas."
      ],
      "metadata": {
        "id": "SV02Ouoqi-Vg"
      }
    },
    {
      "cell_type": "code",
      "source": [
        "# Create list areas\n",
        "areas = [11.25, 18.0, 20.0, 10.75, 9.50]\n",
        "\n",
        "# Use append twice to add poolhouse and garage size\n",
        "areas.append(24.5)\n",
        "areas.append(15.45)\n",
        "\n",
        "# Print out areas\n",
        "print(areas)\n",
        "\n",
        "# Reverse the orders of the elements in areas\n",
        "areas.reverse()\n",
        "\n",
        "# Print out areas\n",
        "print(areas)"
      ],
      "metadata": {
        "colab": {
          "base_uri": "https://localhost:8080/"
        },
        "id": "Y3WZtjdxig3F",
        "outputId": "c73377de-56b6-4728-d180-cedd1460ac7c"
      },
      "execution_count": 25,
      "outputs": [
        {
          "output_type": "stream",
          "name": "stdout",
          "text": [
            "[11.25, 18.0, 20.0, 10.75, 9.5, 24.5, 15.45]\n",
            "[15.45, 24.5, 9.5, 10.75, 20.0, 18.0, 11.25]\n"
          ]
        }
      ]
    },
    {
      "cell_type": "code",
      "source": [],
      "metadata": {
        "id": "NrpKv5_Ojjjz"
      },
      "execution_count": null,
      "outputs": []
    }
  ]
}