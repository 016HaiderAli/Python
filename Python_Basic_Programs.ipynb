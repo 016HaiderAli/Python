{
  "cells": [
    {
      "cell_type": "markdown",
      "metadata": {
        "id": "view-in-github",
        "colab_type": "text"
      },
      "source": [
        "<a href=\"https://colab.research.google.com/github/016HaiderAli/Python/blob/main/Python_Basic_Programs.ipynb\" target=\"_parent\"><img src=\"https://colab.research.google.com/assets/colab-badge.svg\" alt=\"Open In Colab\"/></a>"
      ]
    },
    {
      "cell_type": "markdown",
      "id": "675d9c9d",
      "metadata": {
        "id": "675d9c9d"
      },
      "source": [
        "## Simple Calculator Program"
      ]
    },
    {
      "cell_type": "code",
      "execution_count": 1,
      "id": "12c9138f",
      "metadata": {
        "colab": {
          "base_uri": "https://localhost:8080/"
        },
        "id": "12c9138f",
        "outputId": "d762d991-7d7a-4a95-cf1d-8cde7b6f3c19"
      },
      "outputs": [
        {
          "name": "stdout",
          "output_type": "stream",
          "text": [
            "Select operation.\n",
            "1.Add\n",
            "2.Subtract\n",
            "3.Multiply\n",
            "4.Divide\n",
            "Enter choice(1/2/3/4): 1\n",
            "Enter first number: 4\n",
            "Enter second number: 4\n",
            "4.0 + 4.0 = 8.0\n",
            "Let's do next calculation? (yes/no): yes\n",
            "Enter choice(1/2/3/4): 4\n",
            "Enter first number: 5\n",
            "Enter second number: 2\n",
            "5.0 / 2.0 = 2.5\n",
            "Let's do next calculation? (yes/no): no\n"
          ]
        }
      ],
      "source": [
        "# Program make a simple calculator\n",
        "\n",
        "# This function adds two numbers\n",
        "def add(x, y):\n",
        "    return x + y\n",
        "\n",
        "# This function subtracts two numbers\n",
        "def subtract(x, y):\n",
        "    return x - y\n",
        "\n",
        "# This function multiplies two numbers\n",
        "def multiply(x, y):\n",
        "    return x * y\n",
        "\n",
        "# This function divides two numbers\n",
        "def divide(x, y):\n",
        "    return x / y\n",
        "\n",
        "\n",
        "print(\"Select operation.\")\n",
        "print(\"1.Add\")\n",
        "print(\"2.Subtract\")\n",
        "print(\"3.Multiply\")\n",
        "print(\"4.Divide\")\n",
        "\n",
        "while True:\n",
        "    # take input from the user\n",
        "    choice = input(\"Enter choice(1/2/3/4): \")\n",
        "\n",
        "    # check if choice is one of the four options\n",
        "    if choice in ('1', '2', '3', '4'):\n",
        "        num1 = float(input(\"Enter first number: \"))\n",
        "        num2 = float(input(\"Enter second number: \"))\n",
        "\n",
        "        if choice == '1':\n",
        "            print(num1, \"+\", num2, \"=\", add(num1, num2))\n",
        "\n",
        "        elif choice == '2':\n",
        "            print(num1, \"-\", num2, \"=\", subtract(num1, num2))\n",
        "\n",
        "        elif choice == '3':\n",
        "            print(num1, \"*\", num2, \"=\", multiply(num1, num2))\n",
        "\n",
        "        elif choice == '4':\n",
        "            print(num1, \"/\", num2, \"=\", divide(num1, num2))\n",
        "        \n",
        "        # check if user wants another calculation\n",
        "        # break the while loop if answer is no\n",
        "        next_calculation = input(\"Let's do next calculation? (yes/no): \")\n",
        "        if next_calculation == \"no\":\n",
        "          break\n",
        "    \n",
        "    else:\n",
        "        print(\"Invalid Input\")"
      ]
    },
    {
      "cell_type": "markdown",
      "id": "f8b41898",
      "metadata": {
        "id": "f8b41898"
      },
      "source": [
        "## Boolean variables"
      ]
    },
    {
      "cell_type": "code",
      "execution_count": 2,
      "id": "20fff62f",
      "metadata": {
        "colab": {
          "base_uri": "https://localhost:8080/"
        },
        "id": "20fff62f",
        "outputId": "1016aa34-1d02-4ad2-8c12-245f125c3e0e"
      },
      "outputs": [
        {
          "output_type": "stream",
          "name": "stdout",
          "text": [
            "python3: can't open file '/content/boolean.py': [Errno 2] No such file or directory\n"
          ]
        }
      ],
      "source": [
        "!python boolean.py"
      ]
    },
    {
      "cell_type": "code",
      "execution_count": 3,
      "id": "94fdd498",
      "metadata": {
        "id": "94fdd498"
      },
      "outputs": [],
      "source": [
        "check = False"
      ]
    },
    {
      "cell_type": "code",
      "execution_count": 4,
      "id": "7f0f8674",
      "metadata": {
        "colab": {
          "base_uri": "https://localhost:8080/"
        },
        "id": "7f0f8674",
        "outputId": "8cb2a255-b3fc-4b1d-d49b-234f60886267"
      },
      "outputs": [
        {
          "output_type": "stream",
          "name": "stdout",
          "text": [
            "<class 'bool'>\n"
          ]
        }
      ],
      "source": [
        "print(type(check))"
      ]
    },
    {
      "cell_type": "markdown",
      "id": "8b68ec29",
      "metadata": {
        "id": "8b68ec29"
      },
      "source": [
        "## Functions"
      ]
    },
    {
      "cell_type": "code",
      "execution_count": 5,
      "id": "3b54e78b",
      "metadata": {
        "colab": {
          "base_uri": "https://localhost:8080/"
        },
        "id": "3b54e78b",
        "outputId": "b9ff7164-6d42-49b2-ab71-a52bcff39c82"
      },
      "outputs": [
        {
          "output_type": "stream",
          "name": "stdout",
          "text": [
            "python3: can't open file '/content/functions.py': [Errno 2] No such file or directory\n"
          ]
        }
      ],
      "source": [
        "!python functions.py"
      ]
    },
    {
      "cell_type": "code",
      "execution_count": 6,
      "id": "9d218f7a",
      "metadata": {
        "id": "9d218f7a"
      },
      "outputs": [],
      "source": [
        "def add(a, b):\n",
        "    add = a + b;\n",
        "    return add;"
      ]
    },
    {
      "cell_type": "code",
      "execution_count": 7,
      "id": "e9f64017",
      "metadata": {
        "id": "e9f64017"
      },
      "outputs": [],
      "source": [
        "x=3\n",
        "y=5\n",
        "sum = add(x,y)"
      ]
    },
    {
      "cell_type": "code",
      "execution_count": 8,
      "id": "c41f281a",
      "metadata": {
        "colab": {
          "base_uri": "https://localhost:8080/"
        },
        "id": "c41f281a",
        "outputId": "45bb91c1-a653-4edf-ad87-47d05d884ac8"
      },
      "outputs": [
        {
          "output_type": "stream",
          "name": "stdout",
          "text": [
            "8\n"
          ]
        }
      ],
      "source": [
        "print(sum)"
      ]
    },
    {
      "cell_type": "markdown",
      "id": "9ad43bdd",
      "metadata": {
        "id": "9ad43bdd"
      },
      "source": [
        "## Lists"
      ]
    },
    {
      "cell_type": "code",
      "execution_count": 9,
      "id": "e56d0249",
      "metadata": {
        "scrolled": false,
        "colab": {
          "base_uri": "https://localhost:8080/"
        },
        "id": "e56d0249",
        "outputId": "9c0e80c4-a9b3-4445-a003-add0f437bb25"
      },
      "outputs": [
        {
          "output_type": "stream",
          "name": "stdout",
          "text": [
            "python3: can't open file '/content/lists.py': [Errno 2] No such file or directory\n"
          ]
        }
      ],
      "source": [
        "!python lists.py"
      ]
    },
    {
      "cell_type": "code",
      "execution_count": 10,
      "id": "e303bd0d",
      "metadata": {
        "id": "e303bd0d"
      },
      "outputs": [],
      "source": [
        "marks = [5, 7.5, 8.5]"
      ]
    },
    {
      "cell_type": "code",
      "execution_count": 11,
      "id": "c242d75d",
      "metadata": {
        "scrolled": true,
        "colab": {
          "base_uri": "https://localhost:8080/"
        },
        "id": "c242d75d",
        "outputId": "dc9070d5-2c56-470f-8569-f6b8a341bc3c"
      },
      "outputs": [
        {
          "output_type": "stream",
          "name": "stdout",
          "text": [
            "[5, 7.5, 8.5]\n"
          ]
        }
      ],
      "source": [
        "print(marks)"
      ]
    },
    {
      "cell_type": "code",
      "execution_count": 12,
      "id": "a2e9e2fb",
      "metadata": {
        "scrolled": true,
        "colab": {
          "base_uri": "https://localhost:8080/"
        },
        "id": "a2e9e2fb",
        "outputId": "f0c0f15c-03af-418f-890b-ecdb903e1423"
      },
      "outputs": [
        {
          "output_type": "stream",
          "name": "stdout",
          "text": [
            "<class 'list'>\n"
          ]
        }
      ],
      "source": [
        "print(type(marks))"
      ]
    },
    {
      "cell_type": "code",
      "execution_count": 13,
      "id": "a4c8f253",
      "metadata": {
        "id": "a4c8f253"
      },
      "outputs": [],
      "source": [
        "marks = [5, 7.5, 8.5, \"Haider\", False]"
      ]
    },
    {
      "cell_type": "code",
      "execution_count": 14,
      "id": "d2d96d28",
      "metadata": {
        "scrolled": true,
        "colab": {
          "base_uri": "https://localhost:8080/"
        },
        "id": "d2d96d28",
        "outputId": "acad298a-86df-42d8-b6ee-35524bb9fe22"
      },
      "outputs": [
        {
          "output_type": "execute_result",
          "data": {
            "text/plain": [
              "[5, 7.5, 8.5, 'Haider', False]"
            ]
          },
          "metadata": {},
          "execution_count": 14
        }
      ],
      "source": [
        "marks"
      ]
    },
    {
      "cell_type": "code",
      "execution_count": 15,
      "id": "76a5b7d3",
      "metadata": {
        "scrolled": true,
        "colab": {
          "base_uri": "https://localhost:8080/"
        },
        "id": "76a5b7d3",
        "outputId": "cbbc6f15-e417-463e-a573-55fcf074d4dd"
      },
      "outputs": [
        {
          "output_type": "stream",
          "name": "stdout",
          "text": [
            "5\n"
          ]
        }
      ],
      "source": [
        "print(marks[0])"
      ]
    },
    {
      "cell_type": "code",
      "execution_count": 16,
      "id": "f82aece5",
      "metadata": {
        "colab": {
          "base_uri": "https://localhost:8080/"
        },
        "id": "f82aece5",
        "outputId": "34c78c00-549b-4ed3-808f-413f41bbe1bf"
      },
      "outputs": [
        {
          "output_type": "stream",
          "name": "stdout",
          "text": [
            "False\n"
          ]
        }
      ],
      "source": [
        "print(marks[4])"
      ]
    },
    {
      "cell_type": "code",
      "execution_count": 17,
      "id": "4a487ac4",
      "metadata": {
        "colab": {
          "base_uri": "https://localhost:8080/"
        },
        "id": "4a487ac4",
        "outputId": "95eb291b-8e04-4884-ca3e-a5c8ffa352e8"
      },
      "outputs": [
        {
          "output_type": "stream",
          "name": "stdout",
          "text": [
            "no\n"
          ]
        }
      ],
      "source": [
        "if 10 in marks:\n",
        "    print(\"yes\")\n",
        "else:\n",
        "    print(\"no\")"
      ]
    },
    {
      "cell_type": "code",
      "execution_count": 18,
      "id": "26b1d6b6",
      "metadata": {
        "colab": {
          "base_uri": "https://localhost:8080/"
        },
        "id": "26b1d6b6",
        "outputId": "d6400710-017c-4165-8de2-427d83df2f3f"
      },
      "outputs": [
        {
          "output_type": "stream",
          "name": "stdout",
          "text": [
            "python3: can't open file '/content/dictionary.py': [Errno 2] No such file or directory\n"
          ]
        }
      ],
      "source": [
        "!python dictionary.py"
      ]
    },
    {
      "cell_type": "code",
      "execution_count": 19,
      "id": "26be6b23",
      "metadata": {
        "id": "26be6b23"
      },
      "outputs": [],
      "source": [
        "dict = {'Haider':25, 'Shujat': 32, 'Kifayat': 24}"
      ]
    },
    {
      "cell_type": "code",
      "execution_count": 20,
      "id": "cc04e759",
      "metadata": {
        "colab": {
          "base_uri": "https://localhost:8080/"
        },
        "id": "cc04e759",
        "outputId": "aaa010f5-b483-4ea4-d6bf-32f83f35d830"
      },
      "outputs": [
        {
          "output_type": "stream",
          "name": "stdout",
          "text": [
            "25\n"
          ]
        }
      ],
      "source": [
        "print(dict.get('Haider'))"
      ]
    },
    {
      "cell_type": "code",
      "execution_count": null,
      "id": "c011223e",
      "metadata": {
        "id": "c011223e"
      },
      "outputs": [],
      "source": []
    }
  ],
  "metadata": {
    "kernelspec": {
      "display_name": "Python 3 (ipykernel)",
      "language": "python",
      "name": "python3"
    },
    "language_info": {
      "codemirror_mode": {
        "name": "ipython",
        "version": 3
      },
      "file_extension": ".py",
      "mimetype": "text/x-python",
      "name": "python",
      "nbconvert_exporter": "python",
      "pygments_lexer": "ipython3",
      "version": "3.11.1"
    },
    "colab": {
      "provenance": [],
      "include_colab_link": true
    }
  },
  "nbformat": 4,
  "nbformat_minor": 5
}