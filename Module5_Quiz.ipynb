{
 "cells": [
  {
   "attachments": {},
   "cell_type": "markdown",
   "metadata": {},
   "source": [
    "Sum of Consecutive Numbers <br>\n",
    "No one likes homework, but your math teacher has given you an assignment to find the sum of the first N numbers.<br>\n",
    "<br>\n",
    "Let’s save some time by creating a program to do the calculation for you!<br>\n",
    "<br>\n",
    "Take a number N as input and output the sum of all numbers from 1 to N (including N). <br>\n",
    "<br>\n",
    "Sample Input<br>\n",
    "<br>\n",
    "100 <br>\n",
    "<br>\n",
    "Sample Output <br><br>\n",
    "\n",
    "5050 <br>\n",
    "\n",
    "Explanation: The sum of all numbers from 1 to 100 is equal to 5050. <br> <br>\n",
    "\n",
    "Tip: <br>\n",
    "You can iterate over a range and calculate the sum of all numbers in the range. <br>\n",
    "<br>\n",
    "Remember, range(a, b) does not include b, thus you need to use b+1 to include b in the range."
   ]
  },
  {
   "cell_type": "code",
   "execution_count": 1,
   "metadata": {},
   "outputs": [
    {
     "name": "stdout",
     "output_type": "stream",
     "text": [
      "15\n"
     ]
    }
   ],
   "source": [
    "N = int(input())\n",
    "#your code goes here\n",
    "sum = 0\n",
    "\n",
    "for i in range(N+1):\n",
    "    sum += i\n",
    "print(sum)"
   ]
  },
  {
   "cell_type": "code",
   "execution_count": null,
   "metadata": {},
   "outputs": [],
   "source": []
  }
 ],
 "metadata": {
  "kernelspec": {
   "display_name": ".venv",
   "language": "python",
   "name": "python3"
  },
  "language_info": {
   "codemirror_mode": {
    "name": "ipython",
    "version": 3
   },
   "file_extension": ".py",
   "mimetype": "text/x-python",
   "name": "python",
   "nbconvert_exporter": "python",
   "pygments_lexer": "ipython3",
   "version": "3.11.1"
  },
  "orig_nbformat": 4
 },
 "nbformat": 4,
 "nbformat_minor": 2
}
