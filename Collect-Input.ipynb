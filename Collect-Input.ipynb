{
 "cells": [
  {
   "attachments": {},
   "cell_type": "markdown",
   "metadata": {},
   "source": [
    "User input\n",
    "Another way to pass data to the program is having the user enter the data. You can code it so the program tells the user to enter information. You save that entered data in the program and then act on it.\n",
    "\n",
    "To capture information from the user, you'll use the input() function. Here's an example:"
   ]
  },
  {
   "cell_type": "code",
   "execution_count": 2,
   "metadata": {},
   "outputs": [
    {
     "name": "stdout",
     "output_type": "stream",
     "text": [
      "Welcome to the greeter program\n",
      "Greetings haider\n"
     ]
    }
   ],
   "source": [
    "print(\"Welcome to the greeter program\")\n",
    "name = input(\"Enter your name: \")\n",
    "print(\"Greetings \" + name)"
   ]
  },
  {
   "attachments": {},
   "cell_type": "markdown",
   "metadata": {},
   "source": [
    "Working with numbers\n",
    "The input() function stores a result as a string, so the following code might not do what you want it to:"
   ]
  },
  {
   "cell_type": "code",
   "execution_count": 3,
   "metadata": {},
   "outputs": [
    {
     "name": "stdout",
     "output_type": "stream",
     "text": [
      "calculator program\n",
      "23\n"
     ]
    }
   ],
   "source": [
    "print(\"calculator program\")\n",
    "first_number = input(\"first number: \")\n",
    "second_number = input(\"second number: \")\n",
    "print(first_number + second_number)"
   ]
  },
  {
   "attachments": {},
   "cell_type": "markdown",
   "metadata": {},
   "source": [
    "You probably meant for this program to answer you with 7 instead of 34. So what went wrong?\n",
    "\n",
    "The explanation is that first_number and second_number are strings. For the calculation to work correctly, you need to change those strings to numbers by using the int() function. By modifying the last line of the program to use int(), you can resolve the problem:"
   ]
  },
  {
   "cell_type": "code",
   "execution_count": 4,
   "metadata": {},
   "outputs": [
    {
     "name": "stdout",
     "output_type": "stream",
     "text": [
      "5\n"
     ]
    }
   ],
   "source": [
    "print(int(first_number) + int(second_number))"
   ]
  },
  {
   "cell_type": "code",
   "execution_count": null,
   "metadata": {},
   "outputs": [],
   "source": []
  }
 ],
 "metadata": {
  "kernelspec": {
   "display_name": ".venv",
   "language": "python",
   "name": "python3"
  },
  "language_info": {
   "codemirror_mode": {
    "name": "ipython",
    "version": 3
   },
   "file_extension": ".py",
   "mimetype": "text/x-python",
   "name": "python",
   "nbconvert_exporter": "python",
   "pygments_lexer": "ipython3",
   "version": "3.11.1"
  },
  "orig_nbformat": 4
 },
 "nbformat": 4,
 "nbformat_minor": 2
}
