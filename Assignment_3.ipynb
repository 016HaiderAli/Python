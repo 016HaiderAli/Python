{
  "nbformat": 4,
  "nbformat_minor": 0,
  "metadata": {
    "colab": {
      "provenance": [],
      "authorship_tag": "ABX9TyPs/j2RDzZ8wlZW0ASVY5aa",
      "include_colab_link": true
    },
    "kernelspec": {
      "name": "python3",
      "display_name": "Python 3"
    },
    "language_info": {
      "name": "python"
    }
  },
  "cells": [
    {
      "cell_type": "markdown",
      "metadata": {
        "id": "view-in-github",
        "colab_type": "text"
      },
      "source": [
        "<a href=\"https://colab.research.google.com/github/016HaiderAli/Python/blob/master/Assignment_3.ipynb\" target=\"_parent\"><img src=\"https://colab.research.google.com/assets/colab-badge.svg\" alt=\"Open In Colab\"/></a>"
      ]
    },
    {
      "cell_type": "markdown",
      "source": [
        "**Write a Python program that asks the user to enter a number and then prints \"Fizz\" if the number is divisible by 3, \"Buzz\" if the number is divisible by 5, and \"FizzBuzz\" if the number is divisible by both 3 and 5. If the number is not divisible by either 3 or 5, the program should just print the number**"
      ],
      "metadata": {
        "id": "_7BEyn25oJkh"
      }
    },
    {
      "cell_type": "code",
      "execution_count": 12,
      "metadata": {
        "colab": {
          "base_uri": "https://localhost:8080/"
        },
        "id": "hFWLhbtWoHuA",
        "outputId": "2947f86e-54ba-4a1c-c733-754d0296fba3"
      },
      "outputs": [
        {
          "output_type": "stream",
          "name": "stdout",
          "text": [
            "Please enter a number = 15\n",
            "FizzBuzz\n"
          ]
        }
      ],
      "source": [
        "num = int(input(\"Please enter a number = \"))\n",
        "if (num % 15 == 0):\n",
        "  print(\"FizzBuzz\")\n",
        "elif num % 5 == 0:\n",
        "  print(\"Buzz\")\n",
        "elif (num % 3 == 0):\n",
        "  print(\"Fizz\")\n",
        "else:\n",
        "  print(num)"
      ]
    },
    {
      "cell_type": "code",
      "source": [
        "num = int(input(\"Please enter a number = \"))\n",
        "if (num % 15 == 0):\n",
        "  print(\"FizzBuzz\")\n",
        "elif num % 5 == 0:\n",
        "  print(\"Buzz\")\n",
        "elif (num % 3 == 0):\n",
        "  print(\"Fizz\")\n",
        "else:\n",
        "  print(num)"
      ],
      "metadata": {
        "colab": {
          "base_uri": "https://localhost:8080/"
        },
        "id": "4lCIK1c5o7fl",
        "outputId": "8e76a80a-8bb2-4c4c-f1a9-ae8fb0e938b6"
      },
      "execution_count": 13,
      "outputs": [
        {
          "output_type": "stream",
          "name": "stdout",
          "text": [
            "Please enter a number = 10\n",
            "Buzz\n"
          ]
        }
      ]
    },
    {
      "cell_type": "code",
      "source": [
        "num = int(input(\"Please enter a number = \"))\n",
        "if (num % 15 == 0):\n",
        "  print(\"FizzBuzz\")\n",
        "elif num % 5 == 0:\n",
        "  print(\"Buzz\")\n",
        "elif (num % 3 == 0):\n",
        "  print(\"Fizz\")\n",
        "else:\n",
        "  print(num)"
      ],
      "metadata": {
        "colab": {
          "base_uri": "https://localhost:8080/"
        },
        "id": "RpnBQeYjpA9o",
        "outputId": "9b364f7f-666c-477e-855b-5e65d6dc56e0"
      },
      "execution_count": 14,
      "outputs": [
        {
          "output_type": "stream",
          "name": "stdout",
          "text": [
            "Please enter a number = 9\n",
            "Fizz\n"
          ]
        }
      ]
    }
  ]
}