{
 "cells": [
  {
   "cell_type": "code",
   "execution_count": 1,
   "metadata": {},
   "outputs": [
    {
     "name": "stdout",
     "output_type": "stream",
     "text": [
      "[10, 2, 3, 4, 5]\n"
     ]
    }
   ],
   "source": [
    "list1 = [1, 2, 3, 4, 5]\n",
    "list1[0] = 10\n",
    "print(list1)\n"
   ]
  },
  {
   "cell_type": "code",
   "execution_count": 12,
   "metadata": {},
   "outputs": [
    {
     "name": "stdout",
     "output_type": "stream",
     "text": [
      "[2, 5, 3, 1, 7, 6, 4, 11]\n",
      "[2, 6]\n"
     ]
    }
   ],
   "source": [
    "#Which of the following will reverse list1=[2,5,3,1]?\n",
    "#######0,1,2,3,4,5,6,7,8 \n",
    "list1=[2,5,3,1,7,6,4, 11]\n",
    "print(list1[:])\n",
    "#syntax of list = [start : stop : step ]\n",
    "# print(list1[::-1]) #reverse the order of list\n",
    "print(list1[:7:5]) #display the list with the gap of 3"
   ]
  },
  {
   "cell_type": "code",
   "execution_count": 14,
   "metadata": {},
   "outputs": [
    {
     "name": "stdout",
     "output_type": "stream",
     "text": [
      "6\n"
     ]
    }
   ],
   "source": [
    "numbers = [1, 2, 3, 4, 5]\n",
    "numbers[4] = 6\n",
    "print(numbers[4])"
   ]
  },
  {
   "cell_type": "code",
   "execution_count": 17,
   "metadata": {},
   "outputs": [
    {
     "name": "stdout",
     "output_type": "stream",
     "text": [
      "[10, 13]\n"
     ]
    }
   ],
   "source": [
    "list1 = [10, 11, 12, 13, 14]\n",
    "print(list1[::3])"
   ]
  },
  {
   "cell_type": "code",
   "execution_count": 4,
   "metadata": {},
   "outputs": [
    {
     "name": "stdout",
     "output_type": "stream",
     "text": [
      "['Pakistan', 'India', 'China', 'Iraq', 'Iran', 'Syria']\n",
      "['Pakistan', 'Russia', 'India', 'China', 'Iraq', 'Iran', 'Syria']\n"
     ]
    }
   ],
   "source": [
    "countries = ['Pakistan', 'India', 'China', 'Iraq', 'Iran']\n",
    "#list.append(value) inserts a value at the end of list\n",
    "countries.append('Syria')\n",
    "print(countries)\n",
    "#list.insert(index, value) inserts a value in between \n",
    "countries.insert(1, 'Russia')\n",
    "print(countries)"
   ]
  },
  {
   "cell_type": "code",
   "execution_count": 5,
   "metadata": {},
   "outputs": [
    {
     "name": "stdout",
     "output_type": "stream",
     "text": [
      "['Sahiwal', 'Karachi']\n"
     ]
    }
   ],
   "source": [
    "#swapping \n",
    "city = ['Karachi', 'Sahiwal']\n",
    "city[0], city[1] = city[1], city[0]\n",
    "print(city)"
   ]
  },
  {
   "cell_type": "code",
   "execution_count": 13,
   "metadata": {},
   "outputs": [
    {
     "name": "stdout",
     "output_type": "stream",
     "text": [
      "[254, 67, 61, 65]\n"
     ]
    }
   ],
   "source": [
    "#Two more methods of list\n",
    "\n",
    "#list.sort() #sorts the list in ascending order by default\n",
    "order = [65, 61, 67, 254]\n",
    "#order.sort()\n",
    "#print(order)\n",
    "\n",
    "#list.reverse() #reverse the sequence of elements in a list\n",
    "order.reverse()\n",
    "print(order)"
   ]
  },
  {
   "cell_type": "code",
   "execution_count": 14,
   "metadata": {},
   "outputs": [
    {
     "name": "stdout",
     "output_type": "stream",
     "text": [
      "Python\n"
     ]
    }
   ],
   "source": [
    "#max() function\n",
    "list1=[\"Go\",\"Java\",\"C\",\"Python\"]\n",
    "print(max(list1))"
   ]
  },
  {
   "cell_type": "code",
   "execution_count": 1,
   "metadata": {},
   "outputs": [
    {
     "name": "stdout",
     "output_type": "stream",
     "text": [
      "C\n"
     ]
    }
   ],
   "source": [
    "#min() function\n",
    "list1=[\"Go\",\"Java\",\"C\",\"Python\"]\n",
    "print(min(list1))"
   ]
  },
  {
   "cell_type": "code",
   "execution_count": 2,
   "metadata": {},
   "outputs": [
    {
     "name": "stdout",
     "output_type": "stream",
     "text": [
      "[4, 4, 1]\n"
     ]
    }
   ],
   "source": [
    "list1 = [4, 4, 3, 1]\n",
    "list1.pop(2)\n",
    "print(list1)"
   ]
  },
  {
   "cell_type": "code",
   "execution_count": 3,
   "metadata": {},
   "outputs": [
    {
     "name": "stdout",
     "output_type": "stream",
     "text": [
      "[24, 46, 56, 72]\n"
     ]
    }
   ],
   "source": [
    "ages = [56, 72, 24, 46]\n",
    "ages.sort()\n",
    "print(ages)"
   ]
  },
  {
   "cell_type": "code",
   "execution_count": 14,
   "metadata": {},
   "outputs": [
    {
     "name": "stdout",
     "output_type": "stream",
     "text": [
      "['UK', 8, 'India', 'Canada']\n",
      "<class 'int'>\n"
     ]
    }
   ],
   "source": [
    "list1=['UK','India','Canada']\n",
    "\n",
    "#insert(index, value)\n",
    "list1.insert( 1 , 8 )\n",
    "\n",
    "print(list1)\n",
    "print(type(list1[1]))"
   ]
  },
  {
   "cell_type": "code",
   "execution_count": 15,
   "metadata": {},
   "outputs": [
    {
     "name": "stdout",
     "output_type": "stream",
     "text": [
      "[1, 3, 4, 4]\n"
     ]
    }
   ],
   "source": [
    "num = [4, 4, 3, 1]\n",
    "num.reverse()\n",
    "print(num)"
   ]
  },
  {
   "cell_type": "code",
   "execution_count": null,
   "metadata": {},
   "outputs": [],
   "source": []
  }
 ],
 "metadata": {
  "kernelspec": {
   "display_name": ".venv",
   "language": "python",
   "name": "python3"
  },
  "language_info": {
   "codemirror_mode": {
    "name": "ipython",
    "version": 3
   },
   "file_extension": ".py",
   "mimetype": "text/x-python",
   "name": "python",
   "nbconvert_exporter": "python",
   "pygments_lexer": "ipython3",
   "version": "3.11.1"
  },
  "orig_nbformat": 4
 },
 "nbformat": 4,
 "nbformat_minor": 2
}
