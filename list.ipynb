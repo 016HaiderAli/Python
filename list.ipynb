{
  "nbformat": 4,
  "nbformat_minor": 0,
  "metadata": {
    "colab": {
      "provenance": [],
      "authorship_tag": "ABX9TyOB9QyqcI2WDzb8T8fsegoh",
      "include_colab_link": true
    },
    "kernelspec": {
      "name": "python3",
      "display_name": "Python 3"
    },
    "language_info": {
      "name": "python"
    }
  },
  "cells": [
    {
      "cell_type": "markdown",
      "metadata": {
        "id": "view-in-github",
        "colab_type": "text"
      },
      "source": [
        "<a href=\"https://colab.research.google.com/github/016HaiderAli/Python/blob/master/list.ipynb\" target=\"_parent\"><img src=\"https://colab.research.google.com/assets/colab-badge.svg\" alt=\"Open In Colab\"/></a>"
      ]
    },
    {
      "cell_type": "code",
      "execution_count": 1,
      "metadata": {
        "id": "uHYWt5vlAC_7"
      },
      "outputs": [],
      "source": [
        "areas = [\"hallway\", 11.90, \"kitchen\", 25.5, \"living room\", 8.25, \"bedroom\", 5.65, \"bathroom\", 4.42]"
      ]
    },
    {
      "cell_type": "code",
      "source": [
        "#slicing and dicing\n",
        "print(areas[:3]) #to get the first three elements"
      ],
      "metadata": {
        "colab": {
          "base_uri": "https://localhost:8080/"
        },
        "id": "bY-MjndIAGNP",
        "outputId": "3109869f-d9a6-46b1-b102-dea328baf2da"
      },
      "execution_count": 4,
      "outputs": [
        {
          "output_type": "stream",
          "name": "stdout",
          "text": [
            "['hallway', 11.9, 'kitchen']\n"
          ]
        }
      ]
    },
    {
      "cell_type": "code",
      "source": [
        "print(areas[:-3]) #to get all elements except the last three"
      ],
      "metadata": {
        "colab": {
          "base_uri": "https://localhost:8080/"
        },
        "id": "8awsnZVNARio",
        "outputId": "1ac99a58-4bf3-47e9-ea2b-b8af3e658811"
      },
      "execution_count": 5,
      "outputs": [
        {
          "output_type": "stream",
          "name": "stdout",
          "text": [
            "['hallway', 11.9, 'kitchen', 25.5, 'living room', 8.25, 'bedroom']\n"
          ]
        }
      ]
    },
    {
      "cell_type": "code",
      "source": [
        "print(areas[1:4]) #to get the index value 1 to index value 3"
      ],
      "metadata": {
        "colab": {
          "base_uri": "https://localhost:8080/"
        },
        "id": "qH02HDrbAYuN",
        "outputId": "3ab3e337-4abd-449e-fc64-8874d8f37540"
      },
      "execution_count": 6,
      "outputs": [
        {
          "output_type": "stream",
          "name": "stdout",
          "text": [
            "[11.9, 'kitchen', 25.5]\n"
          ]
        }
      ]
    },
    {
      "cell_type": "code",
      "source": [
        "print(areas[1:]) #to display everything after what you specified at the beginning/start (before colon)  "
      ],
      "metadata": {
        "colab": {
          "base_uri": "https://localhost:8080/"
        },
        "id": "VlL72IQxApPB",
        "outputId": "ef5ffde5-b0af-45d1-98e7-51d6cfeba914"
      },
      "execution_count": 8,
      "outputs": [
        {
          "output_type": "stream",
          "name": "stdout",
          "text": [
            "[11.9, 'kitchen', 25.5, 'living room', 8.25, 'bedroom', 5.65, 'bathroom', 4.42]\n"
          ]
        }
      ]
    },
    {
      "cell_type": "code",
      "source": [
        "print(areas[-1:]) #displays the last value"
      ],
      "metadata": {
        "colab": {
          "base_uri": "https://localhost:8080/"
        },
        "id": "RM4dI9MuA4aO",
        "outputId": "58a50b52-0c83-4082-a77b-a21ac376a4a6"
      },
      "execution_count": 9,
      "outputs": [
        {
          "output_type": "stream",
          "name": "stdout",
          "text": [
            "[4.42]\n"
          ]
        }
      ]
    },
    {
      "cell_type": "code",
      "source": [
        "print(areas[2: -8])\n",
        "#explanation here is that we get the result from 2nd index to (-1 means 6, -2 means 5, -3 means 4 and so on)"
      ],
      "metadata": {
        "colab": {
          "base_uri": "https://localhost:8080/"
        },
        "id": "sBEcasbQBV4Z",
        "outputId": "2ebbc512-ef50-463d-fe39-756f01d301ff"
      },
      "execution_count": 20,
      "outputs": [
        {
          "output_type": "stream",
          "name": "stdout",
          "text": [
            "[]\n"
          ]
        }
      ]
    },
    {
      "cell_type": "code",
      "source": [
        "print(areas[-1:2])"
      ],
      "metadata": {
        "colab": {
          "base_uri": "https://localhost:8080/"
        },
        "id": "uQeaHAHtBlG2",
        "outputId": "4534897b-64fc-4d4d-fb2d-1e859310e541"
      },
      "execution_count": 21,
      "outputs": [
        {
          "output_type": "stream",
          "name": "stdout",
          "text": [
            "[]\n"
          ]
        }
      ]
    },
    {
      "cell_type": "code",
      "source": [
        "print(areas[-2:]) #displays the last two values"
      ],
      "metadata": {
        "colab": {
          "base_uri": "https://localhost:8080/"
        },
        "id": "De6pfZNcDdOm",
        "outputId": "9e8dc7cd-b30e-4213-da37-d82739d0e1ee"
      },
      "execution_count": 31,
      "outputs": [
        {
          "output_type": "stream",
          "name": "stdout",
          "text": [
            "['bathroom', 4.42]\n"
          ]
        }
      ]
    },
    {
      "cell_type": "code",
      "source": [
        "print(areas[-2:-1]) #removes the very last value and displays second last value."
      ],
      "metadata": {
        "colab": {
          "base_uri": "https://localhost:8080/"
        },
        "id": "wpFft3XWDgzT",
        "outputId": "6efeb916-d500-4708-e792-d1619e267399"
      },
      "execution_count": 32,
      "outputs": [
        {
          "output_type": "stream",
          "name": "stdout",
          "text": [
            "['bathroom']\n"
          ]
        }
      ]
    },
    {
      "cell_type": "code",
      "source": [],
      "metadata": {
        "id": "LuLZxGwoEEBl"
      },
      "execution_count": null,
      "outputs": []
    }
  ]
}