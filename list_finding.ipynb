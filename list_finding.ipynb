{
 "cells": [
  {
   "cell_type": "code",
   "execution_count": 1,
   "metadata": {},
   "outputs": [
    {
     "name": "stdout",
     "output_type": "stream",
     "text": [
      "True\n"
     ]
    }
   ],
   "source": [
    "letters = ['A', 'B', 'C', 'D', 'E']\n",
    "print(\"B\" in letters)"
   ]
  },
  {
   "cell_type": "code",
   "execution_count": 2,
   "metadata": {},
   "outputs": [
    {
     "name": "stdout",
     "output_type": "stream",
     "text": [
      "True\n"
     ]
    }
   ],
   "source": [
    "print(\"F\" not in letters)"
   ]
  },
  {
   "cell_type": "code",
   "execution_count": 3,
   "metadata": {},
   "outputs": [
    {
     "name": "stdout",
     "output_type": "stream",
     "text": [
      "[0, 3, 1, 2, 2]\n"
     ]
    }
   ],
   "source": [
    "list1 = [0, 3, 4, 1, 2]\n",
    "list1[2:4]=[1,2]\n",
    "print(list1)"
   ]
  },
  {
   "cell_type": "code",
   "execution_count": 4,
   "metadata": {},
   "outputs": [
    {
     "name": "stdout",
     "output_type": "stream",
     "text": [
      "3\n"
     ]
    }
   ],
   "source": [
    "my_list = [0, 3, 4, 1, 2]\n",
    "print(my_list.index(1))"
   ]
  },
  {
   "cell_type": "code",
   "execution_count": 5,
   "metadata": {},
   "outputs": [
    {
     "data": {
      "text/plain": [
       "True"
      ]
     },
     "execution_count": 5,
     "metadata": {},
     "output_type": "execute_result"
    }
   ],
   "source": [
    "(4, 6) not in [(4, 7), (5, 6), \"hello\"]"
   ]
  },
  {
   "attachments": {},
   "cell_type": "markdown",
   "metadata": {},
   "source": [
    "so 4 and 6 that were present in the tuple inside list were not counted? \n",
    "if 4,6 and were together in a tuple inside list would it count then?\n",
    "\n",
    "That's correct. In the original statement, the tuple (4, 6) is not present in the list [(4, 7), (5, 6), \"hello\"], so the condition evaluates to True.\n",
    "\n",
    "If (4, 6) was present in the list as a tuple, for example [(4, 7), (4, 6), (5, 6), \"hello\"], then the condition (4, 6) not in [(4, 7), (5, 6), \"hello\"] would evaluate to False, since (4, 6) is now in the list."
   ]
  },
  {
   "cell_type": "code",
   "execution_count": 6,
   "metadata": {},
   "outputs": [
    {
     "name": "stdout",
     "output_type": "stream",
     "text": [
      "[3, 9, 6, 1, 2]\n"
     ]
    }
   ],
   "source": [
    "list1=[3,4,6,1,2]\n",
    "list2=list1\n",
    "list1[1]=9\n",
    "print(list2)"
   ]
  },
  {
   "cell_type": "code",
   "execution_count": 7,
   "metadata": {},
   "outputs": [
    {
     "name": "stdout",
     "output_type": "stream",
     "text": [
      "[0, [8, 9], 4, 1, 2]\n"
     ]
    }
   ],
   "source": [
    "list1 = [0, 3, 4, 1, 2]\n",
    "list1[1]=[8,9]\n",
    "print(list1)"
   ]
  },
  {
   "cell_type": "code",
   "execution_count": 8,
   "metadata": {},
   "outputs": [
    {
     "name": "stdout",
     "output_type": "stream",
     "text": [
      "[0, 3, 8, 9]\n"
     ]
    }
   ],
   "source": [
    "list1 = [0, 3, 4, 1, 2]\n",
    "list1[2:5]=[8,9]\n",
    "print(list1)"
   ]
  },
  {
   "cell_type": "code",
   "execution_count": 10,
   "metadata": {},
   "outputs": [
    {
     "name": "stdout",
     "output_type": "stream",
     "text": [
      "True\n"
     ]
    }
   ],
   "source": [
    "#Choose the correct answer if the following list contains the element ‘A’. Check if you get “True” in the output.\n",
    "\n",
    "Li = ['A','C','b', 1, 3, 4]\n",
    "print(\"A\" in letters)"
   ]
  },
  {
   "cell_type": "code",
   "execution_count": 11,
   "metadata": {},
   "outputs": [
    {
     "name": "stdout",
     "output_type": "stream",
     "text": [
      "[9, 4, 6, 1, 2]\n"
     ]
    }
   ],
   "source": [
    "list1=[3,4,6,1,2]\n",
    "list2=list1\n",
    "list1[0]=9\n",
    "print(list2)"
   ]
  },
  {
   "cell_type": "code",
   "execution_count": null,
   "metadata": {},
   "outputs": [],
   "source": []
  }
 ],
 "metadata": {
  "kernelspec": {
   "display_name": ".venv",
   "language": "python",
   "name": "python3"
  },
  "language_info": {
   "codemirror_mode": {
    "name": "ipython",
    "version": 3
   },
   "file_extension": ".py",
   "mimetype": "text/x-python",
   "name": "python",
   "nbconvert_exporter": "python",
   "pygments_lexer": "ipython3",
   "version": "3.11.1"
  },
  "orig_nbformat": 4
 },
 "nbformat": 4,
 "nbformat_minor": 2
}
