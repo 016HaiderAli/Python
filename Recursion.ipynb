{
  "nbformat": 4,
  "nbformat_minor": 0,
  "metadata": {
    "colab": {
      "provenance": [],
      "authorship_tag": "ABX9TyP9UuHmO0SaVuGLMfXr4Rua",
      "include_colab_link": true
    },
    "kernelspec": {
      "name": "python3",
      "display_name": "Python 3"
    },
    "language_info": {
      "name": "python"
    }
  },
  "cells": [
    {
      "cell_type": "markdown",
      "metadata": {
        "id": "view-in-github",
        "colab_type": "text"
      },
      "source": [
        "<a href=\"https://colab.research.google.com/github/016HaiderAli/Python/blob/master/Recursion.ipynb\" target=\"_parent\"><img src=\"https://colab.research.google.com/assets/colab-badge.svg\" alt=\"Open In Colab\"/></a>"
      ]
    },
    {
      "cell_type": "markdown",
      "source": [
        "**Recursive Function:** <br>\n",
        "\n",
        "\n",
        "---\n",
        "\n",
        "*   A Function is called recursive, when the body of function calls the function itself.\n",
        "*   A recursive function solves a problem by dividing the problem into smaller subproblems and calling the function itself to solve each subproblem. \n"
      ],
      "metadata": {
        "id": "NgN_yBKZixV1"
      }
    },
    {
      "cell_type": "code",
      "execution_count": 2,
      "metadata": {
        "id": "EdlN0uwRiPX1"
      },
      "outputs": [],
      "source": [
        "def factorial(n):\n",
        "  if n ==1:\n",
        "    return 1\n",
        "  else:\n",
        "    return n * (n-1) "
      ]
    },
    {
      "cell_type": "code",
      "source": [
        "result = factorial(3)"
      ],
      "metadata": {
        "id": "jMmfLeBR0fHy"
      },
      "execution_count": 3,
      "outputs": []
    },
    {
      "cell_type": "code",
      "source": [
        "print(result)"
      ],
      "metadata": {
        "colab": {
          "base_uri": "https://localhost:8080/"
        },
        "id": "2mR81xkn0-ZQ",
        "outputId": "87230f4e-60d5-4b5c-d627-92c7f214aed7"
      },
      "execution_count": 4,
      "outputs": [
        {
          "output_type": "stream",
          "name": "stdout",
          "text": [
            "6\n"
          ]
        }
      ]
    },
    {
      "cell_type": "code",
      "source": [
        "#Define the function sum_digits recursively\n",
        "def sum_digits(n):\n",
        "  if n < 10:\n",
        "    return n\n",
        "  else:\n",
        "    all_but_last = n // 10 #excludes the decimal part\n",
        "    last = n % 10 \n",
        "    return sum_digits(all_but_last) + last"
      ],
      "metadata": {
        "id": "80jGRs_N1BFB"
      },
      "execution_count": 11,
      "outputs": []
    },
    {
      "cell_type": "code",
      "source": [
        "check = sum_digits(5)\n",
        "print(check)"
      ],
      "metadata": {
        "colab": {
          "base_uri": "https://localhost:8080/"
        },
        "id": "HSmQp8i53c6l",
        "outputId": "b2c075f1-91ac-46d3-f88e-7e13bf14fc29"
      },
      "execution_count": 12,
      "outputs": [
        {
          "output_type": "stream",
          "name": "stdout",
          "text": [
            "5\n"
          ]
        }
      ]
    },
    {
      "cell_type": "code",
      "source": [
        "check = sum_digits(11)\n",
        "print(check)"
      ],
      "metadata": {
        "colab": {
          "base_uri": "https://localhost:8080/"
        },
        "id": "y85IGTRf3j3h",
        "outputId": "1f714541-cd03-48f5-d060-6c02c0d8476e"
      },
      "execution_count": 15,
      "outputs": [
        {
          "output_type": "stream",
          "name": "stdout",
          "text": [
            "2\n"
          ]
        }
      ]
    },
    {
      "cell_type": "markdown",
      "source": [
        "Fibonacci Sequence: <br>\n",
        " Sequence of numbers where a number is the sum \n",
        " of the 2 numbers that came before it. \n",
        " The sequence' first digits are 0 and 1.\n",
        "\n",
        "(0,) 1, 1, 2, 3, 5, 8, 13, 21, 34, 55, 89, 144, ...\n",
        "\n",
        "Note: The zero is sometimes not mentioned. "
      ],
      "metadata": {
        "id": "5HsIS4rSEagX"
      }
    },
    {
      "cell_type": "code",
      "source": [
        "#Fibonacci Sequence\n",
        "def fib(n):\n",
        "  if n==1:\n",
        "    return 0\n",
        "  elif n == 2:\n",
        "    return 1 \n",
        "  else:\n",
        "    return fib(n-1) + fib(n-2) "
      ],
      "metadata": {
        "id": "ZwjZePzu3o-m"
      },
      "execution_count": 34,
      "outputs": []
    },
    {
      "cell_type": "code",
      "source": [
        "test = fib(8)\n",
        "print(test)"
      ],
      "metadata": {
        "colab": {
          "base_uri": "https://localhost:8080/"
        },
        "id": "ClZ_XDUy4c4u",
        "outputId": "5535be0f-5faa-429f-feeb-e550d57f46c8"
      },
      "execution_count": 35,
      "outputs": [
        {
          "output_type": "stream",
          "name": "stdout",
          "text": [
            "13\n"
          ]
        }
      ]
    },
    {
      "cell_type": "code",
      "source": [
        "  "
      ],
      "metadata": {
        "id": "mgcfrLeJC26z"
      },
      "execution_count": 29,
      "outputs": []
    },
    {
      "cell_type": "code",
      "source": [],
      "metadata": {
        "id": "g_8YgQstFOI2"
      },
      "execution_count": null,
      "outputs": []
    }
  ]
}