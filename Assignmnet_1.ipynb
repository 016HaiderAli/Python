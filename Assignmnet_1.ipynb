{
  "nbformat": 4,
  "nbformat_minor": 0,
  "metadata": {
    "colab": {
      "provenance": [],
      "authorship_tag": "ABX9TyPsyTA1uQ8khBgdL9Nt+IZ8",
      "include_colab_link": true
    },
    "kernelspec": {
      "name": "python3",
      "display_name": "Python 3"
    },
    "language_info": {
      "name": "python"
    }
  },
  "cells": [
    {
      "cell_type": "markdown",
      "metadata": {
        "id": "view-in-github",
        "colab_type": "text"
      },
      "source": [
        "<a href=\"https://colab.research.google.com/github/016HaiderAli/Python/blob/master/Assignmnet_1.ipynb\" target=\"_parent\"><img src=\"https://colab.research.google.com/assets/colab-badge.svg\" alt=\"Open In Colab\"/></a>"
      ]
    },
    {
      "cell_type": "markdown",
      "source": [
        "**Write a Python program that asks the user to enter their age and then prints \"You are a minor\" if their age is less than 18, \"You are an adult\" if their age is greater than or equal to 18 and less than 65, and \"You are a senior\" if their age is 65 or greater**"
      ],
      "metadata": {
        "id": "osMOX1dQQqHD"
      }
    },
    {
      "cell_type": "code",
      "execution_count": 4,
      "metadata": {
        "colab": {
          "base_uri": "https://localhost:8080/"
        },
        "id": "vVvfb4qeQpUd",
        "outputId": "964e5c40-45c3-4241-f5f8-d2717ae6a68b"
      },
      "outputs": [
        {
          "output_type": "stream",
          "name": "stdout",
          "text": [
            "Please enter your age = 65\n",
            "you are senior\n"
          ]
        }
      ],
      "source": [
        "age = int(input(\"Please enter your age = \"))\n",
        "if age < 18:\n",
        "  print(\"you are a minor\")\n",
        "elif age >=18 and age <65:\n",
        "  print(\"you are an adult\") \n",
        "elif age >=65:\n",
        "  print(\"you are senior\")   "
      ]
    },
    {
      "cell_type": "code",
      "source": [],
      "metadata": {
        "id": "HjXqymYgR19A"
      },
      "execution_count": 4,
      "outputs": []
    }
  ]
}