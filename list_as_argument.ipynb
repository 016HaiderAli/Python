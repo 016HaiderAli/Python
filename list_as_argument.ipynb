{
 "cells": [
  {
   "cell_type": "code",
   "execution_count": 1,
   "metadata": {},
   "outputs": [
    {
     "data": {
      "text/plain": [
       "3.25"
      ]
     },
     "execution_count": 1,
     "metadata": {},
     "output_type": "execute_result"
    }
   ],
   "source": [
    "13 / 4 "
   ]
  },
  {
   "cell_type": "code",
   "execution_count": 2,
   "metadata": {},
   "outputs": [
    {
     "name": "stdout",
     "output_type": "stream",
     "text": [
      "3.25\n"
     ]
    }
   ],
   "source": [
    "def mean_func(list1):\n",
    "    return sum(list1) / len(list1)\n",
    "\n",
    "print(mean_func([5, 2, 2, 4]))"
   ]
  },
  {
   "cell_type": "code",
   "execution_count": 3,
   "metadata": {},
   "outputs": [
    {
     "name": "stdout",
     "output_type": "stream",
     "text": [
      "[1, 3, 5]\n"
     ]
    }
   ],
   "source": [
    "def get_odd_func(numbers):\n",
    "    odd_numbers = [num for num in numbers if num % 2]\n",
    "    return odd_numbers\n",
    "\n",
    "print(get_odd_func([1, 2, 3, 4, 5, 6]))"
   ]
  },
  {
   "cell_type": "code",
   "execution_count": 4,
   "metadata": {},
   "outputs": [
    {
     "name": "stdout",
     "output_type": "stream",
     "text": [
      "[1, 2, 3, 1, 2, 3]\n"
     ]
    }
   ],
   "source": [
    "def double_list(numbers):\n",
    "  return 2 * numbers\n",
    "\n",
    "numbers = [1, 2, 3]\n",
    "print(double_list(numbers))"
   ]
  },
  {
   "cell_type": "code",
   "execution_count": 5,
   "metadata": {},
   "outputs": [
    {
     "name": "stdout",
     "output_type": "stream",
     "text": [
      "2 3 4 "
     ]
    }
   ],
   "source": [
    "def my_function(numbers):\n",
    "  for i in numbers:\n",
    "    print(i+1, end=' ')\n",
    "\n",
    "numbers = [1, 2, 3] \n",
    "my_function(numbers)"
   ]
  },
  {
   "cell_type": "code",
   "execution_count": 6,
   "metadata": {},
   "outputs": [
    {
     "name": "stdout",
     "output_type": "stream",
     "text": [
      "john mark emmy "
     ]
    }
   ],
   "source": [
    "def my_function(names):\n",
    "  for i in names:\n",
    "    print(i, end=' ')\n",
    "\n",
    "names = [\"john\", \"mark\", \"emmy\"]\n",
    "my_function(names)"
   ]
  },
  {
   "cell_type": "code",
   "execution_count": 7,
   "metadata": {},
   "outputs": [
    {
     "name": "stdout",
     "output_type": "stream",
     "text": [
      "[7, 5, 9]\n"
     ]
    }
   ],
   "source": [
    "def get_odd_func(numbers):\n",
    "    odd_numbers = [num for num in numbers if num % 2]\n",
    "    return odd_numbers\n",
    "\n",
    "print(get_odd_func([7, 4, 5, 6, 9, 8, 12]))"
   ]
  },
  {
   "cell_type": "code",
   "execution_count": 8,
   "metadata": {},
   "outputs": [
    {
     "data": {
      "text/plain": [
       "[2, 4, 6]"
      ]
     },
     "execution_count": 8,
     "metadata": {},
     "output_type": "execute_result"
    }
   ],
   "source": [
    "def get_even_func(numbers):\n",
    "    even_numbers = [num for num in numbers if not num % 2]\n",
    "    return even_numbers\n",
    "\n",
    "get_even_func([1, 2, 3, 4, 5, 6])"
   ]
  },
  {
   "cell_type": "code",
   "execution_count": 9,
   "metadata": {},
   "outputs": [
    {
     "name": "stdout",
     "output_type": "stream",
     "text": [
      "12 14 16 "
     ]
    }
   ],
   "source": [
    "def my_function(numbers):\n",
    "  for i in numbers:\n",
    "    print(i*2+10, end=' ')\n",
    "\n",
    "numbers = [1, 2, 3]\n",
    "my_function(numbers)"
   ]
  },
  {
   "cell_type": "code",
   "execution_count": 1,
   "metadata": {},
   "outputs": [
    {
     "name": "stdout",
     "output_type": "stream",
     "text": [
      "('Hello', 'World!')\n"
     ]
    }
   ],
   "source": [
    "#when * with a parameter is passed it packs it into a tuple\n",
    "def my_function(*argv):\n",
    "  print(argv)\n",
    "\n",
    "my_function('Hello', 'World!')"
   ]
  },
  {
   "cell_type": "code",
   "execution_count": 2,
   "metadata": {},
   "outputs": [
    {
     "name": "stdout",
     "output_type": "stream",
     "text": [
      "Hello\n"
     ]
    }
   ],
   "source": [
    "def my_function(*argv):\n",
    "  print(argv[0])\n",
    "\n",
    "my_function('Hello', 'World!')"
   ]
  },
  {
   "cell_type": "code",
   "execution_count": 3,
   "metadata": {},
   "outputs": [
    {
     "data": {
      "text/plain": [
       "4.0"
      ]
     },
     "execution_count": 3,
     "metadata": {},
     "output_type": "execute_result"
    }
   ],
   "source": [
    "def division(a,b):\n",
    "    return a/b\n",
    "\n",
    "division(8,2)"
   ]
  },
  {
   "cell_type": "code",
   "execution_count": 4,
   "metadata": {},
   "outputs": [
    {
     "name": "stdout",
     "output_type": "stream",
     "text": [
      "The older friend is 13 years\n"
     ]
    }
   ],
   "source": [
    "def my_function(*ages):\n",
    "  print(\"The older friend is \" + ages[0] + \" years\")\n",
    "\n",
    "my_function(\"13\", \"12\", \"11\")"
   ]
  },
  {
   "cell_type": "code",
   "execution_count": 5,
   "metadata": {},
   "outputs": [
    {
     "name": "stdout",
     "output_type": "stream",
     "text": [
      "Hello\n",
      "World!\n"
     ]
    }
   ],
   "source": [
    "def my_function(*argv):  \n",
    "    for arg in argv:  \n",
    "        print(arg) \n",
    "\n",
    "my_function('Hello', 'World!')"
   ]
  },
  {
   "cell_type": "code",
   "execution_count": 6,
   "metadata": {},
   "outputs": [
    {
     "name": "stdout",
     "output_type": "stream",
     "text": [
      "First argument: Welcome\n",
      "Next argument: to\n",
      "Next argument: Python!\n"
     ]
    }
   ],
   "source": [
    "#When we call the my_function() with the arguments 'Welcome', 'to' and 'Python!', the first argument 'Welcome' is assigned to the parameter arg1.\n",
    "# The remaining arguments ('to' and 'Python!') are packed into a tuple and assigned to the parameter *argv.\n",
    "\n",
    "def my_function(arg1, *argv): \n",
    "    print (\"First argument:\", arg1) \n",
    "    for arg in argv: \n",
    "        print(\"Next argument:\", arg) \n",
    "\n",
    "my_function('Welcome', 'to', 'Python!')"
   ]
  },
  {
   "cell_type": "code",
   "execution_count": 7,
   "metadata": {},
   "outputs": [
    {
     "ename": "UnboundLocalError",
     "evalue": "cannot access local variable 'result' where it is not associated with a value",
     "output_type": "error",
     "traceback": [
      "\u001b[1;31m---------------------------------------------------------------------------\u001b[0m",
      "\u001b[1;31mUnboundLocalError\u001b[0m                         Traceback (most recent call last)",
      "Cell \u001b[1;32mIn[7], line 6\u001b[0m\n\u001b[0;32m      3\u001b[0m         result \u001b[39m+\u001b[39m\u001b[39m=\u001b[39m arg\n\u001b[0;32m      4\u001b[0m     \u001b[39mreturn\u001b[39;00m result \n\u001b[1;32m----> 6\u001b[0m \u001b[39mprint\u001b[39m(\u001b[39msum\u001b[39;49m(\u001b[39m2\u001b[39;49m,\u001b[39m3\u001b[39;49m,\u001b[39m1\u001b[39;49m))\n",
      "Cell \u001b[1;32mIn[7], line 3\u001b[0m, in \u001b[0;36msum\u001b[1;34m(*args)\u001b[0m\n\u001b[0;32m      1\u001b[0m \u001b[39mdef\u001b[39;00m \u001b[39msum\u001b[39m(\u001b[39m*\u001b[39margs):\n\u001b[0;32m      2\u001b[0m     \u001b[39mfor\u001b[39;00m arg \u001b[39min\u001b[39;00m args:\n\u001b[1;32m----> 3\u001b[0m         result \u001b[39m+\u001b[39m\u001b[39m=\u001b[39m arg\n\u001b[0;32m      4\u001b[0m     \u001b[39mreturn\u001b[39;00m result\n",
      "\u001b[1;31mUnboundLocalError\u001b[0m: cannot access local variable 'result' where it is not associated with a value"
     ]
    }
   ],
   "source": [
    "def sum(*args):\n",
    "    for arg in args:\n",
    "        result += arg\n",
    "    return result \n",
    "\n",
    "print(sum(2,3,1))"
   ]
  },
  {
   "cell_type": "code",
   "execution_count": 8,
   "metadata": {},
   "outputs": [
    {
     "name": "stdout",
     "output_type": "stream",
     "text": [
      "5\n"
     ]
    }
   ],
   "source": [
    "def sum(a,b):\n",
    "    return a+b\n",
    "\n",
    "print(sum(2,3))"
   ]
  },
  {
   "cell_type": "code",
   "execution_count": null,
   "metadata": {},
   "outputs": [],
   "source": []
  }
 ],
 "metadata": {
  "kernelspec": {
   "display_name": ".venv",
   "language": "python",
   "name": "python3"
  },
  "language_info": {
   "codemirror_mode": {
    "name": "ipython",
    "version": 3
   },
   "file_extension": ".py",
   "mimetype": "text/x-python",
   "name": "python",
   "nbconvert_exporter": "python",
   "pygments_lexer": "ipython3",
   "version": "3.11.1"
  },
  "orig_nbformat": 4
 },
 "nbformat": 4,
 "nbformat_minor": 2
}
