{
 "cells": [
  {
   "attachments": {},
   "cell_type": "markdown",
   "metadata": {},
   "source": [
    "Numeric Data Type\"\n",
    "if you ask other people, what is their birth date, the answer will be a number.\n",
    "Some people may have 5 or 23 or 10 and so on.\n",
    "when the value of a variable is a number, its called a numeric type variable.\n",
    "\n",
    "there are few types of numbers. if your number doesnt have a fraction i.e a decimal value, then it is called an integer number. Thus, 23, 9, 16, 22 etc are integers.\n",
    "\n",
    "When a number has a decimal like, 2.5, 56.8, etc. They are called Float numbers."
   ]
  },
  {
   "cell_type": "code",
   "execution_count": 1,
   "metadata": {},
   "outputs": [],
   "source": [
    "myVar = 2 #integer\n",
    "myVar2 = 25.54 #a floating point number"
   ]
  },
  {
   "attachments": {},
   "cell_type": "markdown",
   "metadata": {},
   "source": [
    "Booleans: What are they?\n",
    "A variable whose value could be either True or False is called a boolean type variable.\n",
    "Remember that, True or False starts with a capital letter in Python.\n"
   ]
  },
  {
   "cell_type": "markdown",
   "metadata": {},
   "source": []
  }
 ],
 "metadata": {
  "kernelspec": {
   "display_name": ".venv",
   "language": "python",
   "name": "python3"
  },
  "language_info": {
   "codemirror_mode": {
    "name": "ipython",
    "version": 3
   },
   "file_extension": ".py",
   "mimetype": "text/x-python",
   "name": "python",
   "nbconvert_exporter": "python",
   "pygments_lexer": "ipython3",
   "version": "3.11.1"
  },
  "orig_nbformat": 4
 },
 "nbformat": 4,
 "nbformat_minor": 2
}
