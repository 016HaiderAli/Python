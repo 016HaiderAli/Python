{
 "cells": [
  {
   "cell_type": "code",
   "execution_count": 4,
   "metadata": {},
   "outputs": [
    {
     "name": "stdout",
     "output_type": "stream",
     "text": [
      "[10, 11, 12, 13, 14]\n"
     ]
    }
   ],
   "source": [
    "list1 = [10, 11, 12, 13, 14]\n",
    "print(list1[::1]) #syntax ( start : stop : step 2 )"
   ]
  },
  {
   "cell_type": "code",
   "execution_count": 5,
   "metadata": {},
   "outputs": [
    {
     "name": "stdout",
     "output_type": "stream",
     "text": [
      "[14, 13, 12, 11, 10]\n"
     ]
    }
   ],
   "source": [
    "list1 = [10, 11, 12, 13, 14]\n",
    "print(list1[::-1])"
   ]
  },
  {
   "cell_type": "code",
   "execution_count": 3,
   "metadata": {},
   "outputs": [
    {
     "name": "stdout",
     "output_type": "stream",
     "text": [
      "[0, 3]\n"
     ]
    }
   ],
   "source": [
    "my_list = [0, 1, 2, 3, 4]\n",
    "print(my_list[::3])"
   ]
  },
  {
   "cell_type": "code",
   "execution_count": 4,
   "metadata": {},
   "outputs": [
    {
     "name": "stdout",
     "output_type": "stream",
     "text": [
      "[1, 66, 'python', [11, 55, 'cat']]\n"
     ]
    }
   ],
   "source": [
    "list1 = [1, 66, \"python\", [11, 55, \"cat\"], [ ], 2.22, True]\n",
    "print(list1[0:4])"
   ]
  },
  {
   "cell_type": "code",
   "execution_count": 1,
   "metadata": {},
   "outputs": [
    {
     "name": "stdout",
     "output_type": "stream",
     "text": [
      "[49, 36]\n"
     ]
    }
   ],
   "source": [
    "sqs = [0, 1, 4, 9, 16, 25, 36, 49, 64, 81]\n",
    "\n",
    "print(sqs[7:5:-1])"
   ]
  },
  {
   "attachments": {},
   "cell_type": "markdown",
   "metadata": {},
   "source": [
    "List Slices\n",
    "Write a program that takes a string as input and outputs the last character of that string.\n",
    "\n",
    "\n",
    "Remember, you can use negative indices to index lists. "
   ]
  },
  {
   "cell_type": "code",
   "execution_count": 3,
   "metadata": {},
   "outputs": [
    {
     "name": "stdout",
     "output_type": "stream",
     "text": [
      "imb\n"
     ]
    }
   ],
   "source": [
    "#your code goes here\n",
    "name = input()\n",
    "#print(name[-1])\n",
    "print(name[1:-1])"
   ]
  },
  {
   "cell_type": "code",
   "execution_count": 4,
   "metadata": {},
   "outputs": [
    {
     "name": "stdout",
     "output_type": "stream",
     "text": [
      "8\n"
     ]
    }
   ],
   "source": [
    "list = [1, 1, 2, 3, 5, 8, 13]\n",
    "\n",
    "print(list[list[4]])"
   ]
  },
  {
   "cell_type": "code",
   "execution_count": 5,
   "metadata": {},
   "outputs": [
    {
     "name": "stdout",
     "output_type": "stream",
     "text": [
      "8\n"
     ]
    }
   ],
   "source": [
    "list = [1, 1, 2, 3, 5, 8, 13]\n",
    "\n",
    "print(list[list[4]])"
   ]
  },
  {
   "attachments": {},
   "cell_type": "markdown",
   "metadata": {},
   "source": [
    "let me try to explain and correct me if i am wrong <br>\n",
    "and list[4] gives the fifth index value which in our case is the element 5 <br>\n",
    "now we are going to solve list containing the list[4] result that is 5 <br>\n",
    "list[5] <br>\n",
    "which gives the result 8 "
   ]
  },
  {
   "cell_type": "code",
   "execution_count": 6,
   "metadata": {},
   "outputs": [
    {
     "name": "stdout",
     "output_type": "stream",
     "text": [
      "2\n",
      "4\n",
      "6\n",
      "8\n",
      "10\n"
     ]
    }
   ],
   "source": [
    "for i in range(10):\n",
    "\n",
    "  if not i % 2 == 0:\n",
    "\n",
    "    print(i+1)"
   ]
  },
  {
   "cell_type": "code",
   "execution_count": 7,
   "metadata": {},
   "outputs": [
    {
     "name": "stdout",
     "output_type": "stream",
     "text": [
      "13\n"
     ]
    }
   ],
   "source": [
    "x = [6, 4, 2, 9]\n",
    "\n",
    "x = x[::-1]\n",
    "\n",
    "print(x[0]+x[2])"
   ]
  },
  {
   "cell_type": "code",
   "execution_count": null,
   "metadata": {},
   "outputs": [],
   "source": []
  }
 ],
 "metadata": {
  "kernelspec": {
   "display_name": ".venv",
   "language": "python",
   "name": "python3"
  },
  "language_info": {
   "codemirror_mode": {
    "name": "ipython",
    "version": 3
   },
   "file_extension": ".py",
   "mimetype": "text/x-python",
   "name": "python",
   "nbconvert_exporter": "python",
   "pygments_lexer": "ipython3",
   "version": "3.11.1"
  },
  "orig_nbformat": 4
 },
 "nbformat": 4,
 "nbformat_minor": 2
}
