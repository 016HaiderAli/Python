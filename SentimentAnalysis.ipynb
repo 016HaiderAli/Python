{
  "nbformat": 4,
  "nbformat_minor": 0,
  "metadata": {
    "colab": {
      "provenance": [],
      "authorship_tag": "ABX9TyP0jhE9rLxG8FxwNYfo1fWp",
      "include_colab_link": true
    },
    "kernelspec": {
      "name": "python3",
      "display_name": "Python 3"
    },
    "language_info": {
      "name": "python"
    },
    "accelerator": "GPU",
    "gpuClass": "standard"
  },
  "cells": [
    {
      "cell_type": "markdown",
      "metadata": {
        "id": "view-in-github",
        "colab_type": "text"
      },
      "source": [
        "<a href=\"https://colab.research.google.com/github/016HaiderAli/Python/blob/main/SentimentAnalysis.ipynb\" target=\"_parent\"><img src=\"https://colab.research.google.com/assets/colab-badge.svg\" alt=\"Open In Colab\"/></a>"
      ]
    },
    {
      "cell_type": "markdown",
      "source": [
        "Sentiment Analysis"
      ],
      "metadata": {
        "id": "6Sn_G6fkg4D1"
      }
    },
    {
      "cell_type": "code",
      "execution_count": null,
      "metadata": {
        "id": "JKocaiy1NQni"
      },
      "outputs": [],
      "source": [
        "import nltk\n",
        "import string\n",
        "from nltk.corpus import stopwords\n",
        "from nltk.tokenize import word_tokenize\n",
        "from nltk.sentiment.vader import SentimentIntensityAnalyzer"
      ]
    },
    {
      "cell_type": "code",
      "source": [
        "from google.colab import drive\n",
        "drive.mount('/content/drive')"
      ],
      "metadata": {
        "id": "qopMoed4NZWP",
        "colab": {
          "base_uri": "https://localhost:8080/"
        },
        "outputId": "72f066ee-be7f-406b-a75d-de3df449f83b"
      },
      "execution_count": null,
      "outputs": [
        {
          "output_type": "stream",
          "name": "stdout",
          "text": [
            "Mounted at /content/drive\n"
          ]
        }
      ]
    },
    {
      "cell_type": "code",
      "source": [
        "text = open('/content/drive/MyDrive/Facial_Emotion_Recognition/MyPersonality.txt').read()\n",
        "lower_case = text.lower()\n",
        "print(lower_case)"
      ],
      "metadata": {
        "colab": {
          "base_uri": "https://localhost:8080/"
        },
        "id": "4TsDnWhbORn4",
        "outputId": "89b73934-6872-4e37-809e-57d70477678f"
      },
      "execution_count": null,
      "outputs": [
        {
          "output_type": "stream",
          "name": "stdout",
          "text": [
            "guardians are visionaries often thinking about the future, imagining\n",
            " how things will play out, and reading between the lines and patterns\n",
            " of occurences. as a result, guardians are frequently in their heads and miss\n",
            " out the things going on in the present in everyday life. \n",
            "they sometimes wish they could just let loose and enjoy the her \n",
            "and now, indulge their impulses and senses with their beautiful natural world,\n",
            "and be more adventurous.\n",
            "\n",
            "people frequently misinterpret infjs as overly emotional and illogical.\n",
            "while it is true that they are affectionate, they also enjoy learning\n",
            "about the world around them. guardians research and read various resources\n",
            " to acquire more perspective and understanding. they later on take\n",
            "time to internalize and apply anything \n",
            "they have learned in their daily lives.\n"
          ]
        }
      ]
    },
    {
      "cell_type": "code",
      "source": [
        "cleaned_text = lower_case.translate(str.maketrans('','',string.punctuation))\n",
        "cleaned_text\n"
      ],
      "metadata": {
        "colab": {
          "base_uri": "https://localhost:8080/",
          "height": 127
        },
        "id": "v-iJWncsQmsE",
        "outputId": "0760a613-f26e-461e-c603-e2144b19132f"
      },
      "execution_count": null,
      "outputs": [
        {
          "output_type": "execute_result",
          "data": {
            "text/plain": [
              "'guardians are visionaries often thinking about the future imagining\\n how things will play out and reading between the lines and patterns\\n of occurences as a result guardians are frequently in their heads and miss\\n out the things going on in the present in everyday life \\nthey sometimes wish they could just let loose and enjoy the her \\nand now indulge their impulses and senses with their beautiful natural world\\nand be more adventurous\\n\\npeople frequently misinterpret infjs as overly emotional and illogical\\nwhile it is true that they are affectionate they also enjoy learning\\nabout the world around them guardians research and read various resources\\n to acquire more perspective and understanding they later on take\\ntime to internalize and apply anything \\nthey have learned in their daily lives'"
            ],
            "application/vnd.google.colaboratory.intrinsic+json": {
              "type": "string"
            }
          },
          "metadata": {},
          "execution_count": 4
        }
      ]
    },
    {
      "cell_type": "code",
      "source": [
        "words = word_tokenize(cleaned_text)\n",
        "words\n"
      ],
      "metadata": {
        "colab": {
          "base_uri": "https://localhost:8080/"
        },
        "id": "eflDGiKdQqXe",
        "outputId": "905055ce-67db-4934-9e52-3b5fd5672ff6"
      },
      "execution_count": null,
      "outputs": [
        {
          "output_type": "execute_result",
          "data": {
            "text/plain": [
              "['guardians',\n",
              " 'are',\n",
              " 'visionaries',\n",
              " 'often',\n",
              " 'thinking',\n",
              " 'about',\n",
              " 'the',\n",
              " 'future',\n",
              " 'imagining',\n",
              " 'how',\n",
              " 'things',\n",
              " 'will',\n",
              " 'play',\n",
              " 'out',\n",
              " 'and',\n",
              " 'reading',\n",
              " 'between',\n",
              " 'the',\n",
              " 'lines',\n",
              " 'and',\n",
              " 'patterns',\n",
              " 'of',\n",
              " 'occurences',\n",
              " 'as',\n",
              " 'a',\n",
              " 'result',\n",
              " 'guardians',\n",
              " 'are',\n",
              " 'frequently',\n",
              " 'in',\n",
              " 'their',\n",
              " 'heads',\n",
              " 'and',\n",
              " 'miss',\n",
              " 'out',\n",
              " 'the',\n",
              " 'things',\n",
              " 'going',\n",
              " 'on',\n",
              " 'in',\n",
              " 'the',\n",
              " 'present',\n",
              " 'in',\n",
              " 'everyday',\n",
              " 'life',\n",
              " 'they',\n",
              " 'sometimes',\n",
              " 'wish',\n",
              " 'they',\n",
              " 'could',\n",
              " 'just',\n",
              " 'let',\n",
              " 'loose',\n",
              " 'and',\n",
              " 'enjoy',\n",
              " 'the',\n",
              " 'her',\n",
              " 'and',\n",
              " 'now',\n",
              " 'indulge',\n",
              " 'their',\n",
              " 'impulses',\n",
              " 'and',\n",
              " 'senses',\n",
              " 'with',\n",
              " 'their',\n",
              " 'beautiful',\n",
              " 'natural',\n",
              " 'world',\n",
              " 'and',\n",
              " 'be',\n",
              " 'more',\n",
              " 'adventurous',\n",
              " 'people',\n",
              " 'frequently',\n",
              " 'misinterpret',\n",
              " 'infjs',\n",
              " 'as',\n",
              " 'overly',\n",
              " 'emotional',\n",
              " 'and',\n",
              " 'illogical',\n",
              " 'while',\n",
              " 'it',\n",
              " 'is',\n",
              " 'true',\n",
              " 'that',\n",
              " 'they',\n",
              " 'are',\n",
              " 'affectionate',\n",
              " 'they',\n",
              " 'also',\n",
              " 'enjoy',\n",
              " 'learning',\n",
              " 'about',\n",
              " 'the',\n",
              " 'world',\n",
              " 'around',\n",
              " 'them',\n",
              " 'guardians',\n",
              " 'research',\n",
              " 'and',\n",
              " 'read',\n",
              " 'various',\n",
              " 'resources',\n",
              " 'to',\n",
              " 'acquire',\n",
              " 'more',\n",
              " 'perspective',\n",
              " 'and',\n",
              " 'understanding',\n",
              " 'they',\n",
              " 'later',\n",
              " 'on',\n",
              " 'take',\n",
              " 'time',\n",
              " 'to',\n",
              " 'internalize',\n",
              " 'and',\n",
              " 'apply',\n",
              " 'anything',\n",
              " 'they',\n",
              " 'have',\n",
              " 'learned',\n",
              " 'in',\n",
              " 'their',\n",
              " 'daily',\n",
              " 'lives']"
            ]
          },
          "metadata": {},
          "execution_count": 11
        }
      ]
    },
    {
      "cell_type": "code",
      "source": [
        "nltk.download('punkt')"
      ],
      "metadata": {
        "colab": {
          "base_uri": "https://localhost:8080/"
        },
        "id": "FT_a3SNnQtBC",
        "outputId": "a49b0ff2-4197-4217-e1b2-19cee40d8418"
      },
      "execution_count": null,
      "outputs": [
        {
          "output_type": "stream",
          "name": "stderr",
          "text": [
            "[nltk_data] Downloading package punkt to /root/nltk_data...\n",
            "[nltk_data]   Unzipping tokenizers/punkt.zip.\n"
          ]
        },
        {
          "output_type": "execute_result",
          "data": {
            "text/plain": [
              "True"
            ]
          },
          "metadata": {},
          "execution_count": 10
        }
      ]
    },
    {
      "cell_type": "code",
      "source": [
        "stopWords = set(stopwords.words('english'))\n",
        "wordsFiltered = []\n",
        "\n",
        "for w in words:\n",
        "    if w not in stopWords:\n",
        "        wordsFiltered.append(w)\n",
        "        \n",
        "\n",
        "        \n",
        "print(wordsFiltered)\n",
        "\n",
        "output =  \" \".join(wordsFiltered)\n",
        "output"
      ],
      "metadata": {
        "colab": {
          "base_uri": "https://localhost:8080/",
          "height": 129
        },
        "id": "roTyicbbRdJA",
        "outputId": "656cec6e-dd19-469f-e152-cb0145dca780"
      },
      "execution_count": null,
      "outputs": [
        {
          "output_type": "stream",
          "name": "stdout",
          "text": [
            "['guardians', 'visionaries', 'often', 'thinking', 'future', 'imagining', 'things', 'play', 'reading', 'lines', 'patterns', 'occurences', 'result', 'guardians', 'frequently', 'heads', 'miss', 'things', 'going', 'present', 'everyday', 'life', 'sometimes', 'wish', 'could', 'let', 'loose', 'enjoy', 'indulge', 'impulses', 'senses', 'beautiful', 'natural', 'world', 'adventurous', 'people', 'frequently', 'misinterpret', 'infjs', 'overly', 'emotional', 'illogical', 'true', 'affectionate', 'also', 'enjoy', 'learning', 'world', 'around', 'guardians', 'research', 'read', 'various', 'resources', 'acquire', 'perspective', 'understanding', 'later', 'take', 'time', 'internalize', 'apply', 'anything', 'learned', 'daily', 'lives']\n"
          ]
        },
        {
          "output_type": "execute_result",
          "data": {
            "text/plain": [
              "'guardians visionaries often thinking future imagining things play reading lines patterns occurences result guardians frequently heads miss things going present everyday life sometimes wish could let loose enjoy indulge impulses senses beautiful natural world adventurous people frequently misinterpret infjs overly emotional illogical true affectionate also enjoy learning world around guardians research read various resources acquire perspective understanding later take time internalize apply anything learned daily lives'"
            ],
            "application/vnd.google.colaboratory.intrinsic+json": {
              "type": "string"
            }
          },
          "metadata": {},
          "execution_count": 14
        }
      ]
    },
    {
      "cell_type": "code",
      "source": [
        "#downloading stopwords\n",
        "nltk.download('stopwords')"
      ],
      "metadata": {
        "colab": {
          "base_uri": "https://localhost:8080/"
        },
        "id": "bNq7Lyo9SSvx",
        "outputId": "b817eaba-af9f-4ce0-aff5-9a1017904597"
      },
      "execution_count": null,
      "outputs": [
        {
          "output_type": "stream",
          "name": "stderr",
          "text": [
            "[nltk_data] Downloading package stopwords to /root/nltk_data...\n",
            "[nltk_data]   Unzipping corpora/stopwords.zip.\n"
          ]
        },
        {
          "output_type": "execute_result",
          "data": {
            "text/plain": [
              "True"
            ]
          },
          "metadata": {},
          "execution_count": 13
        }
      ]
    },
    {
      "cell_type": "code",
      "source": [
        "def sentiment_analysis(sentiment_text):\n",
        "    score = SentimentIntensityAnalyzer().polarity_scores(sentiment_text)\n",
        "    print(score)\n",
        "    \n",
        "    neg =  score['neg']\n",
        "    pos =  score['pos']\n",
        "    if neg > pos:\n",
        "        print('negative sentiment')\n",
        "    elif pos > neg:\n",
        "        print('positive sentiment')\n",
        "    else:\n",
        "        print('neutral sentiment')\n",
        "\n",
        "\n",
        "sentiment_analysis(output)"
      ],
      "metadata": {
        "colab": {
          "base_uri": "https://localhost:8080/"
        },
        "id": "oZtcr0LQSZcu",
        "outputId": "705c8856-3258-43a8-c26b-f2a8b03c30a2"
      },
      "execution_count": null,
      "outputs": [
        {
          "output_type": "stream",
          "name": "stdout",
          "text": [
            "{'neg': 0.046, 'neu': 0.632, 'pos': 0.323, 'compound': 0.9709}\n",
            "positive sentiment\n"
          ]
        }
      ]
    },
    {
      "cell_type": "code",
      "source": [
        "# downloading vader_lexicon \n",
        "nltk.download('vader_lexicon')"
      ],
      "metadata": {
        "colab": {
          "base_uri": "https://localhost:8080/"
        },
        "id": "d8HrKZijShbR",
        "outputId": "b340a6dc-380e-49b0-a648-d93d8d65f779"
      },
      "execution_count": null,
      "outputs": [
        {
          "output_type": "stream",
          "name": "stderr",
          "text": [
            "[nltk_data] Downloading package vader_lexicon to /root/nltk_data...\n"
          ]
        },
        {
          "output_type": "execute_result",
          "data": {
            "text/plain": [
              "True"
            ]
          },
          "metadata": {},
          "execution_count": 16
        }
      ]
    },
    {
      "cell_type": "code",
      "source": [],
      "metadata": {
        "id": "heCEr_2qSmbw"
      },
      "execution_count": null,
      "outputs": []
    }
  ]
}